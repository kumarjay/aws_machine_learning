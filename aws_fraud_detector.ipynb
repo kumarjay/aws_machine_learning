{
 "cells": [
  {
   "cell_type": "code",
   "execution_count": 1,
   "metadata": {},
   "outputs": [
    {
     "name": "stdout",
     "output_type": "stream",
     "text": [
      "{'detectors': [], 'ResponseMetadata': {'RequestId': '53dbccad-e6a3-4632-8fca-ee74132aa078', 'HTTPStatusCode': 200, 'HTTPHeaders': {'date': 'Wed, 31 Mar 2021 05:20:53 GMT', 'content-type': 'application/x-amz-json-1.1', 'content-length': '16', 'connection': 'keep-alive', 'x-amzn-requestid': '53dbccad-e6a3-4632-8fca-ee74132aa078'}, 'RetryAttempts': 0}}\n"
     ]
    }
   ],
   "source": [
    "import boto3\n",
    "fraudDetector = boto3.client('frauddetector')\n",
    "            \n",
    "response = fraudDetector.get_detectors()\n",
    "print(response)\n"
   ]
  },
  {
   "cell_type": "code",
   "execution_count": 3,
   "metadata": {},
   "outputs": [
    {
     "data": {
      "text/plain": [
       "{'ResponseMetadata': {'RequestId': '173ba337-2b93-4c91-9697-05e51cd6b8d6',\n",
       "  'HTTPStatusCode': 200,\n",
       "  'HTTPHeaders': {'date': 'Wed, 31 Mar 2021 05:24:57 GMT',\n",
       "   'content-type': 'application/x-amz-json-1.1',\n",
       "   'content-length': '2',\n",
       "   'connection': 'keep-alive',\n",
       "   'x-amzn-requestid': '173ba337-2b93-4c91-9697-05e51cd6b8d6'},\n",
       "  'RetryAttempts': 0}}"
      ]
     },
     "execution_count": 3,
     "metadata": {},
     "output_type": "execute_result"
    }
   ],
   "source": [
    "# create event\n",
    "\n",
    "\n",
    "import boto3\n",
    "fraudDetector = boto3.client('frauddetector')\n",
    "\n",
    " #Create variable email_address\n",
    "fraudDetector.create_variable(\n",
    "name = 'email_address',\n",
    "variableType = 'EMAIL_ADDRESS',\n",
    "dataSource = 'EVENT',\n",
    "dataType = 'STRING',\n",
    "defaultValue = '<unknown>'\n",
    ")\n",
    "\n",
    "#Create variable ip_address\n",
    "fraudDetector.create_variable(\n",
    "name = 'ip_address',\n",
    "variableType = 'IP_ADDRESS',\n",
    "dataSource = 'EVENT',\n",
    "dataType = 'STRING',\n",
    "defaultValue = '<unknown>'\n",
    ")\n"
   ]
  },
  {
   "cell_type": "code",
   "execution_count": 4,
   "metadata": {},
   "outputs": [
    {
     "data": {
      "text/plain": [
       "{'ResponseMetadata': {'RequestId': '5906b087-8a63-43a4-8d71-97dbcd12507c',\n",
       "  'HTTPStatusCode': 200,\n",
       "  'HTTPHeaders': {'date': 'Wed, 31 Mar 2021 05:25:41 GMT',\n",
       "   'content-type': 'application/x-amz-json-1.1',\n",
       "   'content-length': '2',\n",
       "   'connection': 'keep-alive',\n",
       "   'x-amzn-requestid': '5906b087-8a63-43a4-8d71-97dbcd12507c'},\n",
       "  'RetryAttempts': 0}}"
      ]
     },
     "execution_count": 4,
     "metadata": {},
     "output_type": "execute_result"
    }
   ],
   "source": [
    "# create entity\n",
    "\n",
    "\n",
    "import boto3\n",
    "fraudDetector = boto3.client('frauddetector')\n",
    "\n",
    "fraudDetector.put_entity_type(\n",
    "name = 'sample_customer',\n",
    "description = 'sample customer entity type'\n",
    ")\n"
   ]
  },
  {
   "cell_type": "code",
   "execution_count": 5,
   "metadata": {},
   "outputs": [
    {
     "data": {
      "text/plain": [
       "{'ResponseMetadata': {'RequestId': '78cb8ec0-5b25-4df2-a550-e1f0a03651ef',\n",
       "  'HTTPStatusCode': 200,\n",
       "  'HTTPHeaders': {'date': 'Wed, 31 Mar 2021 05:26:08 GMT',\n",
       "   'content-type': 'application/x-amz-json-1.1',\n",
       "   'content-length': '2',\n",
       "   'connection': 'keep-alive',\n",
       "   'x-amzn-requestid': '78cb8ec0-5b25-4df2-a550-e1f0a03651ef'},\n",
       "  'RetryAttempts': 0}}"
      ]
     },
     "execution_count": 5,
     "metadata": {},
     "output_type": "execute_result"
    }
   ],
   "source": [
    "# create label\n",
    "\n",
    "\n",
    "import boto3\n",
    "fraudDetector = boto3.client('frauddetector')\n",
    "\n",
    "fraudDetector.put_label(\n",
    "name = 'fraud',\n",
    "description = 'label for fraud events'\n",
    ")\n",
    "\n",
    "fraudDetector.put_label(\n",
    "name = 'legit',\n",
    "description = 'label for legitimate events'\n",
    ")\n"
   ]
  },
  {
   "cell_type": "code",
   "execution_count": 6,
   "metadata": {},
   "outputs": [
    {
     "data": {
      "text/plain": [
       "{'ResponseMetadata': {'RequestId': 'b8642743-4cda-4fe6-ab6a-8b7034137903',\n",
       "  'HTTPStatusCode': 200,\n",
       "  'HTTPHeaders': {'date': 'Wed, 31 Mar 2021 05:27:37 GMT',\n",
       "   'content-type': 'application/x-amz-json-1.1',\n",
       "   'content-length': '2',\n",
       "   'connection': 'keep-alive',\n",
       "   'x-amzn-requestid': 'b8642743-4cda-4fe6-ab6a-8b7034137903'},\n",
       "  'RetryAttempts': 0}}"
      ]
     },
     "execution_count": 6,
     "metadata": {},
     "output_type": "execute_result"
    }
   ],
   "source": [
    "# create event type\n",
    "\n",
    "\n",
    "import boto3\n",
    "fraudDetector = boto3.client('frauddetector')\n",
    "\n",
    "fraudDetector.put_event_type (\n",
    "name = 'sample_registration',\n",
    "eventVariables = ['ip_address', 'email_address'],\n",
    "labels = ['legit', 'fraud'],\n",
    "entityTypes = ['sample_customer'])\n"
   ]
  },
  {
   "cell_type": "code",
   "execution_count": 7,
   "metadata": {
    "scrolled": true
   },
   "outputs": [
    {
     "data": {
      "text/plain": [
       "{'ResponseMetadata': {'RequestId': '0667d07c-189d-4a08-88a6-cb304e0fa8c9',\n",
       "  'HTTPStatusCode': 200,\n",
       "  'HTTPHeaders': {'date': 'Wed, 31 Mar 2021 05:29:16 GMT',\n",
       "   'content-type': 'application/x-amz-json-1.1',\n",
       "   'content-length': '2',\n",
       "   'connection': 'keep-alive',\n",
       "   'x-amzn-requestid': '0667d07c-189d-4a08-88a6-cb304e0fa8c9'},\n",
       "  'RetryAttempts': 0}}"
      ]
     },
     "execution_count": 7,
     "metadata": {},
     "output_type": "execute_result"
    }
   ],
   "source": [
    "# building a model\n",
    "\n",
    "import boto3\n",
    "fraudDetector = boto3.client('frauddetector')\n",
    "\n",
    "fraudDetector.create_model (\n",
    "modelId = 'sample_fraud_detection_model',\n",
    "eventTypeName = 'sample_registration',\n",
    "modelType = 'ONLINE_FRAUD_INSIGHTS')\n",
    "\n"
   ]
  },
  {
   "cell_type": "code",
   "execution_count": null,
   "metadata": {},
   "outputs": [],
   "source": [
    "# if creating arn role a create it from fraud console...from \"Models\" section\n",
    "# after this training will start...it takes some time...."
   ]
  },
  {
   "cell_type": "code",
   "execution_count": 18,
   "metadata": {
    "scrolled": true
   },
   "outputs": [
    {
     "data": {
      "text/plain": [
       "{'modelId': 'sample_fraud_detection_model',\n",
       " 'modelType': 'ONLINE_FRAUD_INSIGHTS',\n",
       " 'modelVersionNumber': '1.0',\n",
       " 'status': 'TRAINING_IN_PROGRESS',\n",
       " 'ResponseMetadata': {'RequestId': '895880ad-9361-4b8d-9c77-809b320419a2',\n",
       "  'HTTPStatusCode': 200,\n",
       "  'HTTPHeaders': {'date': 'Wed, 31 Mar 2021 06:08:20 GMT',\n",
       "   'content-type': 'application/x-amz-json-1.1',\n",
       "   'content-length': '137',\n",
       "   'connection': 'keep-alive',\n",
       "   'x-amzn-requestid': '895880ad-9361-4b8d-9c77-809b320419a2'},\n",
       "  'RetryAttempts': 0}}"
      ]
     },
     "execution_count": 18,
     "metadata": {},
     "output_type": "execute_result"
    }
   ],
   "source": [
    "import boto3\n",
    "fraudDetector = boto3.client('frauddetector')\n",
    "\n",
    "fraudDetector.create_model_version (\n",
    "modelId = 'sample_fraud_detection_model',\n",
    "modelType = 'ONLINE_FRAUD_INSIGHTS',\n",
    "trainingDataSource = 'EXTERNAL_EVENTS',\n",
    "trainingDataSchema = {\n",
    "    'modelVariables' : ['ip_address', 'email_address'],\n",
    "    'labelSchema' : {\n",
    "        'labelMapper' : {\n",
    "            'FRAUD' : ['fraud'],\n",
    "            'LEGIT' : ['legit']\n",
    "        }\n",
    "    }\n",
    "}, \n",
    "externalEventsDetail = {\n",
    "    'dataLocation' : 's3://ml-flow01/registration_data_20K_minimum.csv',\n",
    "    'dataAccessRoleArn' : 'arn:aws:iam::024615928572:role/service-role/AmazonFraudDetector-DataAccessRole-1617170865106'\n",
    "}\n",
    ")\n"
   ]
  },
  {
   "cell_type": "code",
   "execution_count": 21,
   "metadata": {},
   "outputs": [],
   "source": [
    "# after approx 2 hr..."
   ]
  },
  {
   "cell_type": "code",
   "execution_count": 22,
   "metadata": {},
   "outputs": [
    {
     "data": {
      "text/plain": [
       "{'ResponseMetadata': {'RequestId': '332bda49-4166-409e-913b-176d1fa9f259',\n",
       "  'HTTPStatusCode': 200,\n",
       "  'HTTPHeaders': {'date': 'Wed, 31 Mar 2021 07:50:24 GMT',\n",
       "   'content-type': 'application/x-amz-json-1.1',\n",
       "   'content-length': '2',\n",
       "   'connection': 'keep-alive',\n",
       "   'x-amzn-requestid': '332bda49-4166-409e-913b-176d1fa9f259'},\n",
       "  'RetryAttempts': 0}}"
      ]
     },
     "execution_count": 22,
     "metadata": {},
     "output_type": "execute_result"
    }
   ],
   "source": [
    "import boto3\n",
    "fraudDetector = boto3.client('frauddetector')\n",
    "\n",
    "fraudDetector.update_model_version_status (\n",
    "modelId = 'sample_fraud_detection_model',\n",
    "modelType = 'ONLINE_FRAUD_INSIGHTS',\n",
    "modelVersionNumber = '1.00',\n",
    "status = 'ACTIVE'\n",
    ")\n"
   ]
  },
  {
   "cell_type": "code",
   "execution_count": 23,
   "metadata": {},
   "outputs": [],
   "source": [
    "# create a detector"
   ]
  },
  {
   "cell_type": "code",
   "execution_count": 24,
   "metadata": {},
   "outputs": [
    {
     "data": {
      "text/plain": [
       "{'ResponseMetadata': {'RequestId': '3ce01bff-8245-4806-b708-28dbfd1f09b0',\n",
       "  'HTTPStatusCode': 200,\n",
       "  'HTTPHeaders': {'date': 'Wed, 31 Mar 2021 07:51:27 GMT',\n",
       "   'content-type': 'application/x-amz-json-1.1',\n",
       "   'content-length': '2',\n",
       "   'connection': 'keep-alive',\n",
       "   'x-amzn-requestid': '3ce01bff-8245-4806-b708-28dbfd1f09b0'},\n",
       "  'RetryAttempts': 0}}"
      ]
     },
     "execution_count": 24,
     "metadata": {},
     "output_type": "execute_result"
    }
   ],
   "source": [
    "import boto3\n",
    "fraudDetector = boto3.client('frauddetector')\n",
    "\n",
    "fraudDetector.put_detector (\n",
    "detectorId = 'sample_detector',\n",
    "eventTypeName = 'sample_registration'\n",
    ")\n"
   ]
  },
  {
   "cell_type": "code",
   "execution_count": 25,
   "metadata": {},
   "outputs": [],
   "source": [
    "# create an outcome"
   ]
  },
  {
   "cell_type": "code",
   "execution_count": 26,
   "metadata": {
    "scrolled": false
   },
   "outputs": [
    {
     "data": {
      "text/plain": [
       "{'ResponseMetadata': {'RequestId': '36d46fe1-0ec8-4dbd-84f2-e63c9fa30744',\n",
       "  'HTTPStatusCode': 200,\n",
       "  'HTTPHeaders': {'date': 'Wed, 31 Mar 2021 07:51:53 GMT',\n",
       "   'content-type': 'application/x-amz-json-1.1',\n",
       "   'content-length': '2',\n",
       "   'connection': 'keep-alive',\n",
       "   'x-amzn-requestid': '36d46fe1-0ec8-4dbd-84f2-e63c9fa30744'},\n",
       "  'RetryAttempts': 0}}"
      ]
     },
     "execution_count": 26,
     "metadata": {},
     "output_type": "execute_result"
    }
   ],
   "source": [
    "import boto3\n",
    "fraudDetector = boto3.client('frauddetector')\n",
    "\n",
    "fraudDetector.put_outcome(\n",
    "name = 'verify_customer',\n",
    "description = 'this outcome initiates a verification workflow'\n",
    ")\n",
    "\n",
    "fraudDetector.put_outcome(\n",
    "name = 'review',\n",
    "description = 'this outcome sidelines event for review'\n",
    ")\n",
    "\n",
    "fraudDetector.put_outcome(\n",
    "name = 'approve',\n",
    "description = 'this outcome approves the event'\n",
    ")\n"
   ]
  },
  {
   "cell_type": "code",
   "execution_count": 36,
   "metadata": {},
   "outputs": [],
   "source": [
    "# create a rule...\n",
    "# it creates three different rules \n",
    "# (high_fraud_risk, medium_fraud_risk, and low_fraud_risk)\n"
   ]
  },
  {
   "cell_type": "code",
   "execution_count": 31,
   "metadata": {},
   "outputs": [
    {
     "data": {
      "text/plain": [
       "{'rule': {'detectorId': 'sample_detector',\n",
       "  'ruleId': 'low_fraud_risk',\n",
       "  'ruleVersion': '1'},\n",
       " 'ResponseMetadata': {'RequestId': 'f543f6dd-7ed7-480c-8d9a-add8a93416df',\n",
       "  'HTTPStatusCode': 200,\n",
       "  'HTTPHeaders': {'date': 'Wed, 31 Mar 2021 08:01:10 GMT',\n",
       "   'content-type': 'application/x-amz-json-1.1',\n",
       "   'content-length': '85',\n",
       "   'connection': 'keep-alive',\n",
       "   'x-amzn-requestid': 'f543f6dd-7ed7-480c-8d9a-add8a93416df'},\n",
       "  'RetryAttempts': 0}}"
      ]
     },
     "execution_count": 31,
     "metadata": {},
     "output_type": "execute_result"
    }
   ],
   "source": [
    "import boto3\n",
    "fraudDetector = boto3.client('frauddetector')\n",
    "\n",
    "fraudDetector.create_rule(\n",
    "ruleId = 'high_fraud_risk',\n",
    "detectorId = 'sample_detector',\n",
    "expression = '$sample_fraud_detection_model_insightscore > 900',\n",
    "language = 'DETECTORPL',\n",
    "outcomes = ['verify_customer']\n",
    ")\n",
    "\n",
    "fraudDetector.create_rule(\n",
    "ruleId = 'medium_fraud_risk',\n",
    "detectorId = 'sample_detector',\n",
    "expression = '$sample_fraud_detection_model_insightscore <= 900 and $sample_fraud_detection_model_insightscore > 700',\n",
    "language = 'DETECTORPL',\n",
    "outcomes = ['review']\n",
    ")\n",
    "\n",
    "fraudDetector.create_rule(\n",
    "ruleId = 'low_fraud_risk',\n",
    "detectorId = 'sample_detector',\n",
    "expression = '$sample_fraud_detection_model_insightscore <= 700',\n",
    "language = 'DETECTORPL',\n",
    "outcomes = ['approve']\n",
    ")\n"
   ]
  },
  {
   "cell_type": "code",
   "execution_count": 27,
   "metadata": {},
   "outputs": [],
   "source": [
    "# create a detector version"
   ]
  },
  {
   "cell_type": "code",
   "execution_count": 32,
   "metadata": {
    "scrolled": true
   },
   "outputs": [
    {
     "data": {
      "text/plain": [
       "{'detectorId': 'sample_detector',\n",
       " 'detectorVersionId': '1',\n",
       " 'status': 'DRAFT',\n",
       " 'ResponseMetadata': {'RequestId': 'f7d89d49-60c8-42a9-bc95-2e02c173f9fa',\n",
       "  'HTTPStatusCode': 200,\n",
       "  'HTTPHeaders': {'date': 'Wed, 31 Mar 2021 08:01:17 GMT',\n",
       "   'content-type': 'application/x-amz-json-1.1',\n",
       "   'content-length': '73',\n",
       "   'connection': 'keep-alive',\n",
       "   'x-amzn-requestid': 'f7d89d49-60c8-42a9-bc95-2e02c173f9fa'},\n",
       "  'RetryAttempts': 0}}"
      ]
     },
     "execution_count": 32,
     "metadata": {},
     "output_type": "execute_result"
    }
   ],
   "source": [
    "import boto3\n",
    "fraudDetector = boto3.client('frauddetector')\n",
    "\n",
    "fraudDetector.create_detector_version(\n",
    "detectorId = 'sample_detector',\n",
    "rules = [{\n",
    "    'detectorId' : 'sample_detector',\n",
    "    'ruleId' : 'high_fraud_risk',\n",
    "    'ruleVersion' : '1'\n",
    "},\n",
    "{\n",
    "    'detectorId' : 'sample_detector',\n",
    "    'ruleId' : 'medium_fraud_risk',\n",
    "    'ruleVersion' : '1'\n",
    "},\n",
    "{\n",
    "    'detectorId' : 'sample_detector',\n",
    "    'ruleId' : 'low_fraud_risk',\n",
    "    'ruleVersion' : '1'\n",
    "}\n",
    "],\n",
    "modelVersions = [{\n",
    "    'modelId' : 'sample_fraud_detection_model',\n",
    "    'modelType': 'ONLINE_FRAUD_INSIGHTS',\n",
    "    'modelVersionNumber' : '1.00'\n",
    "}],\n",
    "ruleExecutionMode = 'FIRST_MATCHED'\n",
    ")\n"
   ]
  },
  {
   "cell_type": "code",
   "execution_count": 34,
   "metadata": {},
   "outputs": [
    {
     "data": {
      "text/plain": [
       "{'ResponseMetadata': {'RequestId': '77da8418-b19c-4074-9715-bd995061d730',\n",
       "  'HTTPStatusCode': 200,\n",
       "  'HTTPHeaders': {'date': 'Wed, 31 Mar 2021 08:01:44 GMT',\n",
       "   'content-type': 'application/x-amz-json-1.1',\n",
       "   'content-length': '2',\n",
       "   'connection': 'keep-alive',\n",
       "   'x-amzn-requestid': '77da8418-b19c-4074-9715-bd995061d730'},\n",
       "  'RetryAttempts': 0}}"
      ]
     },
     "execution_count": 34,
     "metadata": {},
     "output_type": "execute_result"
    }
   ],
   "source": [
    "import boto3\n",
    "fraudDetector = boto3.client('frauddetector')\n",
    "\n",
    "fraudDetector.update_detector_version_status(\n",
    "detectorId = 'sample_detector',\n",
    "detectorVersionId = '1',\n",
    "status = 'ACTIVE'\n",
    ")\n"
   ]
  },
  {
   "cell_type": "code",
   "execution_count": 29,
   "metadata": {},
   "outputs": [],
   "source": [
    "# get fraud prediction"
   ]
  },
  {
   "cell_type": "code",
   "execution_count": 35,
   "metadata": {},
   "outputs": [
    {
     "data": {
      "text/plain": [
       "{'modelScores': [{'modelVersion': {'modelId': 'sample_fraud_detection_model',\n",
       "    'modelType': 'ONLINE_FRAUD_INSIGHTS',\n",
       "    'modelVersionNumber': '1.0'},\n",
       "   'scores': {'sample_fraud_detection_model_insightscore': 967.0}}],\n",
       " 'ruleResults': [{'ruleId': 'high_fraud_risk',\n",
       "   'outcomes': ['verify_customer']}],\n",
       " 'ResponseMetadata': {'RequestId': 'bf285ac5-8d74-4b2a-9336-fa1fa69262ac',\n",
       "  'HTTPStatusCode': 200,\n",
       "  'HTTPHeaders': {'date': 'Wed, 31 Mar 2021 08:01:50 GMT',\n",
       "   'content-type': 'application/x-amz-json-1.1',\n",
       "   'content-length': '277',\n",
       "   'connection': 'keep-alive',\n",
       "   'x-amzn-requestid': 'bf285ac5-8d74-4b2a-9336-fa1fa69262ac'},\n",
       "  'RetryAttempts': 0}}"
      ]
     },
     "execution_count": 35,
     "metadata": {},
     "output_type": "execute_result"
    }
   ],
   "source": [
    "import boto3\n",
    "fraudDetector = boto3.client('frauddetector')\n",
    "\n",
    "fraudDetector.get_event_prediction(\n",
    "detectorId = 'sample_detector',\n",
    "eventId = '802454d3-f7d8-482d-97e8-c4b6db9a0428',\n",
    "eventTypeName = 'sample_registration',\n",
    "eventTimestamp = '2020-07-13T23:18:21Z',\n",
    "entities = [{'entityType':'sample_customer', 'entityId':'12345'}],\n",
    "eventVariables = {\n",
    "    'email_address' : 'johndoe@exampledomain.com',\n",
    "    'ip_address' : '1.2.3.4'\n",
    "}\n",
    ")\n"
   ]
  },
  {
   "cell_type": "code",
   "execution_count": null,
   "metadata": {},
   "outputs": [],
   "source": []
  }
 ],
 "metadata": {
  "kernelspec": {
   "display_name": "Python 3",
   "language": "python",
   "name": "python3"
  },
  "language_info": {
   "codemirror_mode": {
    "name": "ipython",
    "version": 3
   },
   "file_extension": ".py",
   "mimetype": "text/x-python",
   "name": "python",
   "nbconvert_exporter": "python",
   "pygments_lexer": "ipython3",
   "version": "3.7.6"
  }
 },
 "nbformat": 4,
 "nbformat_minor": 4
}
