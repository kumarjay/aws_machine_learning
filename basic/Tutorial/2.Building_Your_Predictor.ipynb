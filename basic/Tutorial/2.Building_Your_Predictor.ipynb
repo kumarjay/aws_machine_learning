{
 "cells": [
  {
   "cell_type": "markdown",
   "metadata": {},
   "source": [
    "# Building Your Predictor\n",
    "\n",
    "Forecasting is used in a variety of applications and business use cases: For example, retailers need to forecast the sales of their products to decide how much stock they need by location, Manufacturers need to estimate the number of parts required at their factories to optimize their supply chain, Businesses need to estimate their flexible workforce needs, Utilities need to forecast electricity consumption needs in order to attain an efficient energy network, and enterprises need to estimate their cloud infrastructure needs.\n",
    "\n",
    "<img src=\"https://amazon-forecast-samples.s3-us-west-2.amazonaws.com/common/images/forecast_overview_steps.png\" width=\"98%\">\n",
    "\n",
    "In this notebook we will be walking through the steps outlined in 2nd-through-4th boxes above to build and query your first forecast.\n",
    "\n",
    "\n",
    "## Table Of Contents\n",
    "* Step 1: [Setup Amazon Forecast](#setup)\n",
    "* Step 2: [Create a Predictor](#createPredictor)\n",
    "* Step 3: [Get Predictor Error Metrics from Backtesting](#predictorErrors)\n",
    "* Step 4: [Create a Forecast](#createForecast)\n",
    "* Step 5: [Query the Forecast](#queryForecast)\n",
    "* [Next Steps](#nextSteps)\n",
    "\n",
    "For more informations about APIs, please check the [documentation](https://docs.aws.amazon.com/forecast/latest/dg/what-is-forecast.html)"
   ]
  },
  {
   "cell_type": "markdown",
   "metadata": {},
   "source": [
    "## Step 1: Setup Amazon Forecast<a class=\"anchor\" id=\"setup\"></a>\n"
   ]
  },
  {
   "cell_type": "markdown",
   "metadata": {},
   "source": [
    "This section sets up the permissions and relevant endpoints."
   ]
  },
  {
   "cell_type": "code",
   "execution_count": 1,
   "metadata": {},
   "outputs": [],
   "source": [
    "import sys\n",
    "import os\n",
    "import time\n",
    "import pandas as pd\n",
    "\n",
    "# importing forecast notebook utility from notebooks/common directory\n",
    "sys.path.insert( 0, os.path.abspath(\"../../common\") )\n",
    "import util\n",
    "\n",
    "%reload_ext autoreload\n",
    "import boto3\n",
    "import s3fs"
   ]
  },
  {
   "cell_type": "code",
   "execution_count": null,
   "metadata": {},
   "outputs": [],
   "source": []
  },
  {
   "cell_type": "markdown",
   "metadata": {},
   "source": [
    "The line below will retrieve your stored variables from the first notebook."
   ]
  },
  {
   "cell_type": "code",
   "execution_count": 2,
   "metadata": {},
   "outputs": [
    {
     "name": "stdout",
     "output_type": "stream",
     "text": [
      "item_id = client_12\n",
      "project = util_power_demo01\n",
      "data_version = 2\n",
      "Forecast length = 24\n",
      "Dataset frequency = H\n",
      "Timestamp format = yyyy-MM-dd hh:mm:ss\n",
      "dataset_group_arn = arn:aws:forecast:us-east-1:024615928572:dataset-group/util_power_demo01_2\n",
      "role_arn = arn:aws:iam::024615928572:role/forecastrole\n",
      "bucket_name = ml-flow01\n",
      "region = us-east-1\n"
     ]
    }
   ],
   "source": [
    "%store -r\n",
    "\n",
    "# Print your choices from first notebook\n",
    "print(f\"item_id = {item_id}\")\n",
    "print(f\"project = {PROJECT}\")\n",
    "print(f\"data_version = {DATA_VERSION}\")\n",
    "print(f\"Forecast length = {FORECAST_LENGTH}\")\n",
    "print(f\"Dataset frequency = {DATASET_FREQUENCY}\")\n",
    "print(f\"Timestamp format = {TIMESTAMP_FORMAT}\")\n",
    "print(f\"dataset_group_arn = {dataset_group_arn}\")\n",
    "print(f\"role_arn = {role_arn}\")\n",
    "%store -r bucket_name\n",
    "print(f\"bucket_name = {bucket_name}\")\n",
    "%store -r region\n",
    "print(f\"region = {region}\")"
   ]
  },
  {
   "cell_type": "markdown",
   "metadata": {},
   "source": [
    "The last part of the setup process is to validate that your account can communicate with Amazon Forecast, the cell below does just that."
   ]
  },
  {
   "cell_type": "code",
   "execution_count": 3,
   "metadata": {},
   "outputs": [],
   "source": [
    "# Connect API session\n",
    "session = boto3.Session(region_name=region) \n",
    "forecast = session.client(service_name='forecast') \n",
    "forecastquery = session.client(service_name='forecastquery')"
   ]
  },
  {
   "cell_type": "code",
   "execution_count": 4,
   "metadata": {},
   "outputs": [
    {
     "data": {
      "text/plain": [
       "{'Predictors': [],\n",
       " 'ResponseMetadata': {'RequestId': 'fd559324-0fef-4d59-b6be-ad20d41cdaf2',\n",
       "  'HTTPStatusCode': 200,\n",
       "  'HTTPHeaders': {'content-type': 'application/x-amz-json-1.1',\n",
       "   'date': 'Sun, 28 Mar 2021 14:27:19 GMT',\n",
       "   'x-amzn-requestid': 'fd559324-0fef-4d59-b6be-ad20d41cdaf2',\n",
       "   'content-length': '17',\n",
       "   'connection': 'keep-alive'},\n",
       "  'RetryAttempts': 0}}"
      ]
     },
     "execution_count": 4,
     "metadata": {},
     "output_type": "execute_result"
    }
   ],
   "source": [
    "# check you can communicate with Forecast API session\n",
    "forecast.list_predictors()"
   ]
  },
  {
   "cell_type": "markdown",
   "metadata": {},
   "source": [
    "## Step 2: Create a Predictor <a class=\"anchor\" id=\"createPredictor\"></a>\n",
    "\n",
    "Once the datasets are specified with the corresponding schema, Amazon Forecast will automatically aggregate, at the specified time granularity, all the relevant pieces of information for each item, such as sales, price, promotions, as well as categorical attributes, and generate the desired dataset. Next, one can choose an algorithm (forecasting model) and evaluate how well this particular algorithm works on this dataset. The following graph gives a high-level overview of the forecasting models.\n",
    "<img src=\"https://amazon-forecast-samples.s3-us-west-2.amazonaws.com/common/images/recipes.png\" width=\"98%\">\n",
    "<img src=\"https://amazon-forecast-samples.s3-us-west-2.amazonaws.com/common/images/mqcnn.png\" width=\"70%\">\n",
    "<img src=\"https://amazon-forecast-samples.s3-us-west-2.amazonaws.com/common/images/pred_details.png\">\n",
    "\n",
    "\n",
    "Amazon Forecast provides several state-of-the-art forecasting algorithms including classic forecasting methods such as ETS, ARIMA, Prophet and deep learning approaches such as DeepAR+. Classical forecasting methods, such as Autoregressive Integrated Moving Average (ARIMA) or Exponential Smoothing (ETS), fit a single model to each individual time series, and then use that model to extrapolate the time series into the future. Amazon's Non-Parametric Time Series (NPTS) forecaster also fits a single model to each individual time series.  Unlike the naive or seasonal naive forecasters that use a fixed time index (the previous index $T-1$ or the past season $T - \\tau$) as the prediction for time step $T$, NPTS randomly samples a time index $t \\in \\{0, \\dots T-1\\}$ in the past to generate a sample for the current time step $T$.\n",
    "\n",
    "In many applications, you may encounter many similar time series across a set of cross-sectional units. Examples of such time series groupings are demand for different products, server loads, and requests for web pages. In this case, it can be beneficial to train a single model jointly over all of these time series. CNN-QR and DeepAR+ take this approach, outperforming the standard ARIMA and ETS methods when your dataset contains hundreds of related time series. The trained model can also be used for generating forecasts for new time series that are similar to the ones it has been trained on. \n",
    "\n",
    "While deep learning approaches can outperform standard methods, this is only possible when there is sufficient data available for training. It is not true for example when one trains a neural network with a time-series containing only a few dozen observations. Amazon Forecast provides the best of two worlds allowing users to either choose a specific algorithm or let Amazon Forecast automatically perform model selection. \n",
    "\n",
    "\n",
    "## How to evaluate a forecasting model?\n",
    "\n",
    "Before moving forward, let's first introduce the notion of *backtest* when evaluating forecasting models. The key difference between evaluating forecasting algorithms and standard ML applications is that we need to make sure there is no future information gets used in the past. In other words, the procedure needs to be causal. \n",
    "\n",
    "<img src=\"https://amazon-forecast-samples.s3-us-west-2.amazonaws.com/common/images/backtest.png\" width=70%>\n",
    "\n"
   ]
  },
  {
   "cell_type": "code",
   "execution_count": 5,
   "metadata": {},
   "outputs": [
    {
     "name": "stdout",
     "output_type": "stream",
     "text": [
      "Predictor Name = util_power_demo01_2_deep_ar_plus\n"
     ]
    }
   ],
   "source": [
    "# Which algorithm do you want to use?  Choices are:\n",
    "# 1. Choose PerformAutoML=True if you want to let Amazon Forecast choose a recipe automatically.  \n",
    "# 2. If you know which recipe you want, the next level of automation is PerformHPO=True.\n",
    "# 3. Finally, you can specify exactly which recipe and enter your own hyperparameter values\n",
    "# https://docs.aws.amazon.com/forecast/latest/dg/aws-forecast-choosing-recipes.html\n",
    "\n",
    "algorithm_arn = 'arn:aws:forecast:::algorithm/'\n",
    "algorithm = 'Deep_AR_Plus'\n",
    "algorithm_arn_deep_ar_plus = algorithm_arn + algorithm\n",
    "predictor_name_deep_ar = f\"{PROJECT}_{DATA_VERSION}_{algorithm.lower()}\"\n",
    "print(f\"Predictor Name = {predictor_name_deep_ar}\")"
   ]
  },
  {
   "cell_type": "code",
   "execution_count": 6,
   "metadata": {},
   "outputs": [],
   "source": [
    "create_predictor_response = \\\n",
    "    forecast.create_predictor(PredictorName=predictor_name_deep_ar,\n",
    "                              AlgorithmArn=algorithm_arn_deep_ar_plus,\n",
    "                              ForecastHorizon=FORECAST_LENGTH,\n",
    "                              PerformAutoML=False,\n",
    "                              PerformHPO=False,\n",
    "                              InputDataConfig= {\"DatasetGroupArn\": dataset_group_arn},\n",
    "                              FeaturizationConfig= {\"ForecastFrequency\": DATASET_FREQUENCY}\n",
    "                             )"
   ]
  },
  {
   "cell_type": "code",
   "execution_count": 7,
   "metadata": {},
   "outputs": [],
   "source": [
    "predictor_arn_deep_ar = create_predictor_response['PredictorArn']"
   ]
  },
  {
   "cell_type": "markdown",
   "metadata": {},
   "source": [
    "### Stop the train predictor\n",
    "\n",
    "Possibly during fine-tuning development, you'll accidentally start training a predictor before you're ready.  If you don't want to wait for possibly hours for the automatic training heavy lifting to finish, there is a handy \"Stop API\" call."
   ]
  },
  {
   "cell_type": "code",
   "execution_count": 8,
   "metadata": {},
   "outputs": [],
   "source": [
    "# StopResource\n",
    "stop_predictor_arn_deep_ar = forecast.stop_resource(ResourceArn=predictor_arn_deep_ar)"
   ]
  },
  {
   "cell_type": "code",
   "execution_count": 9,
   "metadata": {},
   "outputs": [
    {
     "name": "stdout",
     "output_type": "stream",
     "text": [
      "Successful delete\n"
     ]
    }
   ],
   "source": [
    "# Delete the predictor\n",
    "util.wait_till_delete(lambda: forecast.delete_predictor(PredictorArn = predictor_arn_deep_ar))"
   ]
  },
  {
   "cell_type": "markdown",
   "metadata": {},
   "source": [
    "### Submit the train predictor job again\n",
    "\n",
    "Maybe you fixed something you forgot before, and now you're ready to really train your predictor."
   ]
  },
  {
   "cell_type": "code",
   "execution_count": 10,
   "metadata": {},
   "outputs": [],
   "source": [
    "create_predictor_response = \\\n",
    "    forecast.create_predictor(PredictorName=predictor_name_deep_ar,\n",
    "                              AlgorithmArn=algorithm_arn_deep_ar_plus,\n",
    "                              ForecastHorizon=FORECAST_LENGTH,\n",
    "                              PerformAutoML=False,\n",
    "                              PerformHPO=False,\n",
    "                              InputDataConfig= {\"DatasetGroupArn\": dataset_group_arn},\n",
    "                              FeaturizationConfig= {\"ForecastFrequency\": DATASET_FREQUENCY}\n",
    "                             )\n",
    "predictor_arn_deep_ar = create_predictor_response['PredictorArn']"
   ]
  },
  {
   "cell_type": "markdown",
   "metadata": {},
   "source": [
    "Check the status of the predictor. When the status change from **CREATE_IN_PROGRESS** to **ACTIVE**, we can continue to next steps. Depending on data size, model selection and choice of hyper parameters tuning，it can take several hours to be **ACTIVE**."
   ]
  },
  {
   "cell_type": "code",
   "execution_count": 11,
   "metadata": {},
   "outputs": [
    {
     "name": "stdout",
     "output_type": "stream",
     "text": [
      "CREATE_PENDING .\n",
      "CREATE_IN_PROGRESS ...........................................................................................................................................\n",
      "ACTIVE \n"
     ]
    }
   ],
   "source": [
    "status = util.wait(lambda: forecast.describe_predictor(PredictorArn=predictor_arn_deep_ar))\n",
    "assert status"
   ]
  },
  {
   "cell_type": "code",
   "execution_count": 12,
   "metadata": {},
   "outputs": [
    {
     "data": {
      "text/plain": [
       "{'PredictorArn': 'arn:aws:forecast:us-east-1:024615928572:predictor/util_power_demo01_2_deep_ar_plus',\n",
       " 'PredictorName': 'util_power_demo01_2_deep_ar_plus',\n",
       " 'AlgorithmArn': 'arn:aws:forecast:::algorithm/Deep_AR_Plus',\n",
       " 'ForecastHorizon': 24,\n",
       " 'ForecastTypes': ['0.1', '0.5', '0.9'],\n",
       " 'PerformAutoML': False,\n",
       " 'PerformHPO': False,\n",
       " 'TrainingParameters': {'context_length': '48',\n",
       "  'epochs': '500',\n",
       "  'learning_rate': '1E-3',\n",
       "  'learning_rate_decay': '0.5',\n",
       "  'likelihood': 'student-t',\n",
       "  'max_learning_rate_decays': '0',\n",
       "  'num_averaged_models': '1',\n",
       "  'num_cells': '40',\n",
       "  'num_layers': '2',\n",
       "  'prediction_length': '24'},\n",
       " 'EvaluationParameters': {'NumberOfBacktestWindows': 1,\n",
       "  'BackTestWindowOffset': 24},\n",
       " 'InputDataConfig': {'DatasetGroupArn': 'arn:aws:forecast:us-east-1:024615928572:dataset-group/util_power_demo01_2'},\n",
       " 'FeaturizationConfig': {'ForecastFrequency': 'H',\n",
       "  'Featurizations': [{'AttributeName': 'target_value',\n",
       "    'FeaturizationPipeline': [{'FeaturizationMethodName': 'filling',\n",
       "      'FeaturizationMethodParameters': {'aggregation': 'sum',\n",
       "       'backfill': 'zero',\n",
       "       'frontfill': 'none',\n",
       "       'middlefill': 'zero'}}]}]},\n",
       " 'PredictorExecutionDetails': {'PredictorExecutions': [{'AlgorithmArn': 'arn:aws:forecast:::algorithm/Deep_AR_Plus',\n",
       "    'TestWindows': [{'TestWindowStart': datetime.datetime(2014, 10, 31, 5, 30, tzinfo=tzlocal()),\n",
       "      'TestWindowEnd': datetime.datetime(2014, 11, 1, 5, 30, tzinfo=tzlocal()),\n",
       "      'Status': 'ACTIVE'}]}]},\n",
       " 'DatasetImportJobArns': ['arn:aws:forecast:us-east-1:024615928572:dataset-import-job/util_power_demo01_2/util_power_demo01_2'],\n",
       " 'AutoMLAlgorithmArns': ['arn:aws:forecast:::algorithm/Deep_AR_Plus'],\n",
       " 'Status': 'ACTIVE',\n",
       " 'CreationTime': datetime.datetime(2021, 3, 28, 19, 57, 58, 712000, tzinfo=tzlocal()),\n",
       " 'LastModificationTime': datetime.datetime(2021, 3, 28, 20, 22, 22, 505000, tzinfo=tzlocal()),\n",
       " 'ResponseMetadata': {'RequestId': '7e4d8a4d-30db-4fbe-874f-051eec7191de',\n",
       "  'HTTPStatusCode': 200,\n",
       "  'HTTPHeaders': {'content-type': 'application/x-amz-json-1.1',\n",
       "   'date': 'Sun, 28 Mar 2021 15:21:56 GMT',\n",
       "   'x-amzn-requestid': '7e4d8a4d-30db-4fbe-874f-051eec7191de',\n",
       "   'content-length': '1519',\n",
       "   'connection': 'keep-alive'},\n",
       "  'RetryAttempts': 0}}"
      ]
     },
     "execution_count": 12,
     "metadata": {},
     "output_type": "execute_result"
    }
   ],
   "source": [
    "forecast.describe_predictor(PredictorArn=predictor_arn_deep_ar)"
   ]
  },
  {
   "cell_type": "markdown",
   "metadata": {},
   "source": [
    "## Step 3. Get Predictor Error Metrics from Backtesting <a class=\"anchor\" id=\"predictorErrors\"></a>\n",
    "\n",
    "After creating the predictors, we can query the forecast accuracy given by the backtest scenario and have a quantitative understanding of the performance of the algorithm. Such a process is iterative in nature during model development. When an algorithm with satisfying performance is found, the customer can deploy the predictor into a production environment, and query the forecasts for a particular item to make business decisions. The figure below shows a sample plot of different quantile forecasts of a predictor."
   ]
  },
  {
   "cell_type": "code",
   "execution_count": null,
   "metadata": {},
   "outputs": [],
   "source": [
    "error_metrics_deep_ar_plus = forecast.get_accuracy_metrics(PredictorArn=predictor_arn_deep_ar)\n",
    "error_metrics_deep_ar_plus"
   ]
  },
  {
   "cell_type": "markdown",
   "metadata": {},
   "source": [
    "## Step 4. Create a Forecast <a class=\"anchor\" id=\"createForecast\"></a>"
   ]
  },
  {
   "cell_type": "code",
   "execution_count": 13,
   "metadata": {},
   "outputs": [
    {
     "name": "stdout",
     "output_type": "stream",
     "text": [
      "Predictor Name = util_power_demo01_2_deep_ar_plus\n"
     ]
    }
   ],
   "source": [
    "forecast_name_deep_ar = f\"{PROJECT}_{DATA_VERSION}_{algorithm.lower()}\"\n",
    "print(f\"Predictor Name = {predictor_name_deep_ar}\")"
   ]
  },
  {
   "cell_type": "code",
   "execution_count": 14,
   "metadata": {},
   "outputs": [],
   "source": [
    "# create_forecast_response=forecast.create_forecast(ForecastName=forecastName,\n",
    "#                                                   PredictorArn=predictor_arn)\n",
    "# forecast_arn = create_forecast_response['ForecastArn']\n",
    "\n",
    "create_forecast_response_deep_ar = \\\n",
    "    forecast.create_forecast(ForecastName=forecast_name_deep_ar,\n",
    "                             PredictorArn=predictor_arn_deep_ar)\n",
    "\n",
    "forecast_arn_deep_ar = create_forecast_response_deep_ar['ForecastArn']"
   ]
  },
  {
   "cell_type": "markdown",
   "metadata": {},
   "source": [
    "### Stop the create forecast\n",
    "\n",
    "Possibly during experimentation, you've found the best predictor, but it's not this predictor.  If you don't want to wait for possibly hours for the automatic re-training heavy lifting and inferencing to finish, there is a handy \"Stop API\" call."
   ]
  },
  {
   "cell_type": "code",
   "execution_count": 15,
   "metadata": {},
   "outputs": [],
   "source": [
    "# StopResource\n",
    "stop_forecast_arn_deep_ar = forecast.stop_resource(ResourceArn=forecast_arn_deep_ar)"
   ]
  },
  {
   "cell_type": "code",
   "execution_count": 16,
   "metadata": {},
   "outputs": [
    {
     "name": "stdout",
     "output_type": "stream",
     "text": [
      "Successful delete\n"
     ]
    }
   ],
   "source": [
    "# Delete forecast\n",
    "util.wait_till_delete(lambda: forecast.delete_forecast(ForecastArn = forecast_arn_deep_ar))"
   ]
  },
  {
   "cell_type": "markdown",
   "metadata": {},
   "source": [
    "### Submit the create forecast job again\n",
    "\n",
    "Maybe you've experimented with other predictors, but now you've decided this one is the best, and you now want to come back to it and really create a forecast."
   ]
  },
  {
   "cell_type": "code",
   "execution_count": 17,
   "metadata": {},
   "outputs": [],
   "source": [
    "create_forecast_response_deep_ar = \\\n",
    "    forecast.create_forecast(ForecastName=forecast_name_deep_ar,\n",
    "                             PredictorArn=predictor_arn_deep_ar)\n",
    "\n",
    "forecast_arn_deep_ar = create_forecast_response_deep_ar['ForecastArn']"
   ]
  },
  {
   "cell_type": "markdown",
   "metadata": {},
   "source": [
    "Check the status of the forecast process, when the status change from **CREATE_IN_PROGRESS** to **ACTIVE**, we can continue to next steps. Depending on data size, model selection and choice of hyper parameters tuning，it can take several hours to be **ACTIVE**."
   ]
  },
  {
   "cell_type": "code",
   "execution_count": 18,
   "metadata": {},
   "outputs": [
    {
     "name": "stdout",
     "output_type": "stream",
     "text": [
      "CREATE_IN_PROGRESS ..............................................................................................................\n",
      "ACTIVE \n"
     ]
    }
   ],
   "source": [
    "status = util.wait(lambda: forecast.describe_forecast(ForecastArn=forecast_arn_deep_ar))\n",
    "assert status"
   ]
  },
  {
   "cell_type": "code",
   "execution_count": 19,
   "metadata": {
    "scrolled": true
   },
   "outputs": [
    {
     "data": {
      "text/plain": [
       "{'ForecastArn': 'arn:aws:forecast:us-east-1:024615928572:forecast/util_power_demo01_2_deep_ar_plus',\n",
       " 'ForecastName': 'util_power_demo01_2_deep_ar_plus',\n",
       " 'ForecastTypes': ['0.1', '0.5', '0.9'],\n",
       " 'PredictorArn': 'arn:aws:forecast:us-east-1:024615928572:predictor/util_power_demo01_2_deep_ar_plus',\n",
       " 'DatasetGroupArn': 'arn:aws:forecast:us-east-1:024615928572:dataset-group/util_power_demo01_2',\n",
       " 'Status': 'ACTIVE',\n",
       " 'CreationTime': datetime.datetime(2021, 3, 28, 20, 52, 21, 151000, tzinfo=tzlocal()),\n",
       " 'LastModificationTime': datetime.datetime(2021, 3, 28, 21, 11, 38, 753000, tzinfo=tzlocal()),\n",
       " 'ResponseMetadata': {'RequestId': 'fdd37279-fad7-4d58-9fd5-44e14075a9d6',\n",
       "  'HTTPStatusCode': 200,\n",
       "  'HTTPHeaders': {'content-type': 'application/x-amz-json-1.1',\n",
       "   'date': 'Sun, 28 Mar 2021 15:41:45 GMT',\n",
       "   'x-amzn-requestid': 'fdd37279-fad7-4d58-9fd5-44e14075a9d6',\n",
       "   'content-length': '469',\n",
       "   'connection': 'keep-alive'},\n",
       "  'RetryAttempts': 0}}"
      ]
     },
     "execution_count": 19,
     "metadata": {},
     "output_type": "execute_result"
    }
   ],
   "source": [
    "forecast.describe_forecast(ForecastArn=forecast_arn_deep_ar)"
   ]
  },
  {
   "cell_type": "markdown",
   "metadata": {},
   "source": [
    "## Step 5:  Query the Forecast <a class=\"anchor\" id=\"queryForecast\"></a>"
   ]
  },
  {
   "cell_type": "markdown",
   "metadata": {},
   "source": [
    "Once created, the forecast results are ready and you view them. "
   ]
  },
  {
   "cell_type": "code",
   "execution_count": 20,
   "metadata": {},
   "outputs": [
    {
     "data": {
      "text/plain": [
       "'client_12'"
      ]
     },
     "execution_count": 20,
     "metadata": {},
     "output_type": "execute_result"
    }
   ],
   "source": [
    "item_id"
   ]
  },
  {
   "cell_type": "code",
   "execution_count": 21,
   "metadata": {},
   "outputs": [
    {
     "data": {
      "text/plain": [
       "{'Forecast': {'Predictions': {'p10': [{'Timestamp': '2014-11-01T00:00:00',\n",
       "     'Value': 38.10956954956055},\n",
       "    {'Timestamp': '2014-11-01T01:00:00', 'Value': 32.248226165771484},\n",
       "    {'Timestamp': '2014-11-01T02:00:00', 'Value': 29.114925384521484},\n",
       "    {'Timestamp': '2014-11-01T03:00:00', 'Value': 20.245988845825195},\n",
       "    {'Timestamp': '2014-11-01T04:00:00', 'Value': 15.206353187561035},\n",
       "    {'Timestamp': '2014-11-01T05:00:00', 'Value': 14.061107635498047},\n",
       "    {'Timestamp': '2014-11-01T06:00:00', 'Value': 12.142796516418457},\n",
       "    {'Timestamp': '2014-11-01T07:00:00', 'Value': 12.177221298217773},\n",
       "    {'Timestamp': '2014-11-01T08:00:00', 'Value': 18.176559448242188},\n",
       "    {'Timestamp': '2014-11-01T09:00:00', 'Value': 41.74602127075195},\n",
       "    {'Timestamp': '2014-11-01T10:00:00', 'Value': 48.946441650390625},\n",
       "    {'Timestamp': '2014-11-01T11:00:00', 'Value': 42.14883041381836},\n",
       "    {'Timestamp': '2014-11-01T12:00:00', 'Value': 40.02595138549805},\n",
       "    {'Timestamp': '2014-11-01T13:00:00', 'Value': 28.99954605102539},\n",
       "    {'Timestamp': '2014-11-01T14:00:00', 'Value': 28.58249855041504},\n",
       "    {'Timestamp': '2014-11-01T15:00:00', 'Value': 39.51888656616211},\n",
       "    {'Timestamp': '2014-11-01T16:00:00', 'Value': 30.36171531677246},\n",
       "    {'Timestamp': '2014-11-01T17:00:00', 'Value': 37.042327880859375},\n",
       "    {'Timestamp': '2014-11-01T18:00:00', 'Value': 34.16349411010742},\n",
       "    {'Timestamp': '2014-11-01T19:00:00', 'Value': 25.918153762817383},\n",
       "    {'Timestamp': '2014-11-01T20:00:00', 'Value': 23.880271911621094},\n",
       "    {'Timestamp': '2014-11-01T21:00:00', 'Value': 13.98472785949707},\n",
       "    {'Timestamp': '2014-11-01T22:00:00', 'Value': 9.136497497558594},\n",
       "    {'Timestamp': '2014-11-01T23:00:00', 'Value': 4.216549873352051}],\n",
       "   'p50': [{'Timestamp': '2014-11-01T00:00:00', 'Value': 44.133853912353516},\n",
       "    {'Timestamp': '2014-11-01T01:00:00', 'Value': 37.37851333618164},\n",
       "    {'Timestamp': '2014-11-01T02:00:00', 'Value': 32.856689453125},\n",
       "    {'Timestamp': '2014-11-01T03:00:00', 'Value': 24.00967025756836},\n",
       "    {'Timestamp': '2014-11-01T04:00:00', 'Value': 18.94382667541504},\n",
       "    {'Timestamp': '2014-11-01T05:00:00', 'Value': 18.960411071777344},\n",
       "    {'Timestamp': '2014-11-01T06:00:00', 'Value': 16.180906295776367},\n",
       "    {'Timestamp': '2014-11-01T07:00:00', 'Value': 15.716458320617676},\n",
       "    {'Timestamp': '2014-11-01T08:00:00', 'Value': 24.639240264892578},\n",
       "    {'Timestamp': '2014-11-01T09:00:00', 'Value': 55.775840759277344},\n",
       "    {'Timestamp': '2014-11-01T10:00:00', 'Value': 59.61143112182617},\n",
       "    {'Timestamp': '2014-11-01T11:00:00', 'Value': 53.37136459350586},\n",
       "    {'Timestamp': '2014-11-01T12:00:00', 'Value': 51.78570556640625},\n",
       "    {'Timestamp': '2014-11-01T13:00:00', 'Value': 43.12615203857422},\n",
       "    {'Timestamp': '2014-11-01T14:00:00', 'Value': 38.67213821411133},\n",
       "    {'Timestamp': '2014-11-01T15:00:00', 'Value': 49.95509338378906},\n",
       "    {'Timestamp': '2014-11-01T16:00:00', 'Value': 46.85365676879883},\n",
       "    {'Timestamp': '2014-11-01T17:00:00', 'Value': 49.43379592895508},\n",
       "    {'Timestamp': '2014-11-01T18:00:00', 'Value': 44.0400505065918},\n",
       "    {'Timestamp': '2014-11-01T19:00:00', 'Value': 36.23230743408203},\n",
       "    {'Timestamp': '2014-11-01T20:00:00', 'Value': 33.17633056640625},\n",
       "    {'Timestamp': '2014-11-01T21:00:00', 'Value': 21.088897705078125},\n",
       "    {'Timestamp': '2014-11-01T22:00:00', 'Value': 17.148822784423828},\n",
       "    {'Timestamp': '2014-11-01T23:00:00', 'Value': 12.425034523010254}],\n",
       "   'p90': [{'Timestamp': '2014-11-01T00:00:00', 'Value': 49.08949279785156},\n",
       "    {'Timestamp': '2014-11-01T01:00:00', 'Value': 42.317073822021484},\n",
       "    {'Timestamp': '2014-11-01T02:00:00', 'Value': 38.09700012207031},\n",
       "    {'Timestamp': '2014-11-01T03:00:00', 'Value': 29.17330551147461},\n",
       "    {'Timestamp': '2014-11-01T04:00:00', 'Value': 23.35426139831543},\n",
       "    {'Timestamp': '2014-11-01T05:00:00', 'Value': 23.935527801513672},\n",
       "    {'Timestamp': '2014-11-01T06:00:00', 'Value': 20.270671844482422},\n",
       "    {'Timestamp': '2014-11-01T07:00:00', 'Value': 21.076797485351562},\n",
       "    {'Timestamp': '2014-11-01T08:00:00', 'Value': 33.98575973510742},\n",
       "    {'Timestamp': '2014-11-01T09:00:00', 'Value': 66.42562103271484},\n",
       "    {'Timestamp': '2014-11-01T10:00:00', 'Value': 75.80229949951172},\n",
       "    {'Timestamp': '2014-11-01T11:00:00', 'Value': 67.8222885131836},\n",
       "    {'Timestamp': '2014-11-01T12:00:00', 'Value': 70.61376953125},\n",
       "    {'Timestamp': '2014-11-01T13:00:00', 'Value': 55.0137939453125},\n",
       "    {'Timestamp': '2014-11-01T14:00:00', 'Value': 51.797996520996094},\n",
       "    {'Timestamp': '2014-11-01T15:00:00', 'Value': 64.2918930053711},\n",
       "    {'Timestamp': '2014-11-01T16:00:00', 'Value': 57.889984130859375},\n",
       "    {'Timestamp': '2014-11-01T17:00:00', 'Value': 60.1889762878418},\n",
       "    {'Timestamp': '2014-11-01T18:00:00', 'Value': 58.21329116821289},\n",
       "    {'Timestamp': '2014-11-01T19:00:00', 'Value': 49.23027420043945},\n",
       "    {'Timestamp': '2014-11-01T20:00:00', 'Value': 48.036376953125},\n",
       "    {'Timestamp': '2014-11-01T21:00:00', 'Value': 32.09622573852539},\n",
       "    {'Timestamp': '2014-11-01T22:00:00', 'Value': 25.11033821105957},\n",
       "    {'Timestamp': '2014-11-01T23:00:00', 'Value': 22.290481567382812}]}},\n",
       " 'ResponseMetadata': {'RequestId': 'da2e80cc-2091-4d3c-a69d-87be8ded5b7a',\n",
       "  'HTTPStatusCode': 200,\n",
       "  'HTTPHeaders': {'content-type': 'application/x-amz-json-1.1',\n",
       "   'date': 'Sun, 28 Mar 2021 15:49:05 GMT',\n",
       "   'x-amzn-requestid': 'da2e80cc-2091-4d3c-a69d-87be8ded5b7a',\n",
       "   'content-length': '4534',\n",
       "   'connection': 'keep-alive'},\n",
       "  'RetryAttempts': 0}}"
      ]
     },
     "execution_count": 21,
     "metadata": {},
     "output_type": "execute_result"
    }
   ],
   "source": [
    "forecast_response_deep = forecastquery.query_forecast(\n",
    "    ForecastArn=forecast_arn_deep_ar,\n",
    "    Filters={\"item_id\": item_id})\n",
    "\n",
    "forecast_response_deep"
   ]
  },
  {
   "cell_type": "code",
   "execution_count": 22,
   "metadata": {},
   "outputs": [
    {
     "name": "stdout",
     "output_type": "stream",
     "text": [
      "Stored 'forecast_arn_deep_ar' (str)\n",
      "Stored 'predictor_arn_deep_ar' (str)\n"
     ]
    }
   ],
   "source": [
    "%store forecast_arn_deep_ar\n",
    "%store predictor_arn_deep_ar"
   ]
  },
  {
   "cell_type": "markdown",
   "metadata": {},
   "source": [
    "## Next Steps<a class=\"anchor\" id=\"nextSteps\"></a>\n",
    "\n",
    "Congratulations!! You've trained your first Amazon Forecast model and generated your first forecast!!\n",
    "\n",
    "To dive deeper, here are a couple options for further evaluation:\n",
    "<ul>\n",
    "    <li><b>To see an example of single item evaluation in a notebook</b>, see  `3.Evaluating_Your_Predictor.ipynb`.</li>\n",
    "    <li><b>For an example how to use a notebook and Predictor Backtest Forecasts to evaluate all items at once using custom metrics</b>, see `../advanced/Item_Level_Accuracy/Item_Level_Accuracy_Using_Bike_Example.ipynb`. </li>\n",
    "    <li><b>Finally, for a production-level example, how to use Amazon QuickSight to visualize either Predictor Backtest Forecasts and/or Forecasts so you can share and socialize the results with others</b>, <a href=\"https://aws.amazon.com/solutions/implementations/improving-forecast-accuracy-with-machine-learning/?did=sl_card&trk=sl_card\" target=\"_blank\">see our automation solution Improving Forecast Accuracy</a></li>\n",
    "        <li><a href=\"https://console.aws.amazon.com/cloudformation/home?region=us-east-1#/stacks/new?stackName=forecast-stack&t[…]acy-with-machine-learning-demo.template\" target=\"_blank\">Quick launch link for above automation</a></li>\n",
    "    </ul>\n",
    "    \n",
    "For other advanced topics, see the `advanced` section of our notebooks.  Several you may want to check out next:\n",
    "<ul>\n",
    "    <li>Example how to use Related Data: <a href=\"https://github.com/aws-samples/amazon-forecast-samples/blob/master/notebooks/advanced/Incorporating_Related_Time_Series_dataset_to_your_Predictor/Incorporating_Related_Time_Series_dataset_to_your_Predictor.ipynb\" target=\"_blank\">Incorporating Related Time Series</a></li>\n",
    "    <li>Example how to use our built-in, hosted-by-AWS weather data: <a href=\"https://github.com/aws-samples/amazon-forecast-samples/blob/master/notebooks/advanced/Weather_index/1.%20Training%20your%20model%20with%20Weather%20Index.ipynb\" target=\"_blank\">Training your model with Weather Index </a></li>\n",
    "    </ul>"
   ]
  },
  {
   "cell_type": "code",
   "execution_count": null,
   "metadata": {},
   "outputs": [],
   "source": []
  }
 ],
 "metadata": {
  "kernelspec": {
   "display_name": "Python 3",
   "language": "python",
   "name": "python3"
  },
  "language_info": {
   "codemirror_mode": {
    "name": "ipython",
    "version": 3
   },
   "file_extension": ".py",
   "mimetype": "text/x-python",
   "name": "python",
   "nbconvert_exporter": "python",
   "pygments_lexer": "ipython3",
   "version": "3.7.6"
  }
 },
 "nbformat": 4,
 "nbformat_minor": 4
}
