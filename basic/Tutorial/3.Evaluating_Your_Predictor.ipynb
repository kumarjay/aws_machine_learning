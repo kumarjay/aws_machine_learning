{
 "cells": [
  {
   "cell_type": "markdown",
   "metadata": {},
   "source": [
    "# Evaluating Your Forecast\n",
    "\n",
    "So far you have prepared your data, and generated your first Forecast. Now is the time to pull down the predictions from this Predictor, and compare them to the actual observed values. This will let us know the impact of accuracy based on the Forecast.\n",
    "\n",
    "You can extend the approaches here to compare multiple models or predictors and to determine the impact of improved accuracy on your use case.\n",
    "\n",
    "Overview:\n",
    "\n",
    "* Setup\n",
    "* Obtaining a Prediction\n",
    "* Plotting the Actual Results\n",
    "* Plotting the Prediction\n",
    "* Comparing the Prediction to Actual Results"
   ]
  },
  {
   "cell_type": "markdown",
   "metadata": {},
   "source": [
    "## Setup"
   ]
  },
  {
   "cell_type": "markdown",
   "metadata": {},
   "source": [
    "Import the standard Python Libraries that are used in this lesson."
   ]
  },
  {
   "cell_type": "code",
   "execution_count": 1,
   "metadata": {},
   "outputs": [],
   "source": [
    "import json\n",
    "import time\n",
    "import dateutil.parser\n",
    "\n",
    "import boto3\n",
    "import pandas as pd"
   ]
  },
  {
   "cell_type": "markdown",
   "metadata": {},
   "source": [
    "The line below will retrieve your shared variables from the earlier notebooks."
   ]
  },
  {
   "cell_type": "code",
   "execution_count": 2,
   "metadata": {},
   "outputs": [],
   "source": [
    "%store -r"
   ]
  },
  {
   "cell_type": "markdown",
   "metadata": {},
   "source": [
    "Once again connect to the Forecast APIs via the SDK."
   ]
  },
  {
   "cell_type": "code",
   "execution_count": 3,
   "metadata": {},
   "outputs": [],
   "source": [
    "session = boto3.Session(region_name=region) \n",
    "forecast = session.client(service_name='forecast') \n",
    "forecastquery = session.client(service_name='forecastquery')"
   ]
  },
  {
   "cell_type": "markdown",
   "metadata": {},
   "source": [
    "## Obtaining a Prediction:\n",
    "\n",
    "Now that your predictor is active we will query it to get a prediction that will be plotted later."
   ]
  },
  {
   "cell_type": "code",
   "execution_count": 5,
   "metadata": {},
   "outputs": [],
   "source": [
    "forecastResponse = forecastquery.query_forecast(\n",
    "    ForecastArn='arn:aws:forecast:us-east-1:024615928572:forecast/util_power_demo01_2_deep_ar_plus',\n",
    "    Filters={\"item_id\":\"client_12\"}\n",
    ")"
   ]
  },
  {
   "cell_type": "markdown",
   "metadata": {},
   "source": [
    "## Plotting the Actual Results\n",
    "\n",
    "In the first notebook we created a file of observed values, we are now going to select a given date and customer from that dataframe and are going to plot the actual usage data for that customer. "
   ]
  },
  {
   "cell_type": "code",
   "execution_count": 7,
   "metadata": {},
   "outputs": [
    {
     "data": {
      "text/plain": [
       "'/home/jay/amazon-forecast-samples/notebooks/basic/Tutorial'"
      ]
     },
     "execution_count": 7,
     "metadata": {},
     "output_type": "execute_result"
    }
   ],
   "source": [
    "import os\n",
    "\n",
    "os.getcwd()"
   ]
  },
  {
   "cell_type": "code",
   "execution_count": 9,
   "metadata": {},
   "outputs": [
    {
     "data": {
      "text/html": [
       "<div>\n",
       "<style scoped>\n",
       "    .dataframe tbody tr th:only-of-type {\n",
       "        vertical-align: middle;\n",
       "    }\n",
       "\n",
       "    .dataframe tbody tr th {\n",
       "        vertical-align: top;\n",
       "    }\n",
       "\n",
       "    .dataframe thead th {\n",
       "        text-align: right;\n",
       "    }\n",
       "</style>\n",
       "<table border=\"1\" class=\"dataframe\">\n",
       "  <thead>\n",
       "    <tr style=\"text-align: right;\">\n",
       "      <th></th>\n",
       "      <th>timestamp</th>\n",
       "      <th>value</th>\n",
       "      <th>item</th>\n",
       "    </tr>\n",
       "  </thead>\n",
       "  <tbody>\n",
       "    <tr>\n",
       "      <th>0</th>\n",
       "      <td>2014-01-01 01:00:00</td>\n",
       "      <td>38.349917</td>\n",
       "      <td>client_12</td>\n",
       "    </tr>\n",
       "    <tr>\n",
       "      <th>1</th>\n",
       "      <td>2014-01-01 02:00:00</td>\n",
       "      <td>33.582090</td>\n",
       "      <td>client_12</td>\n",
       "    </tr>\n",
       "    <tr>\n",
       "      <th>2</th>\n",
       "      <td>2014-01-01 03:00:00</td>\n",
       "      <td>34.411277</td>\n",
       "      <td>client_12</td>\n",
       "    </tr>\n",
       "    <tr>\n",
       "      <th>3</th>\n",
       "      <td>2014-01-01 04:00:00</td>\n",
       "      <td>39.800995</td>\n",
       "      <td>client_12</td>\n",
       "    </tr>\n",
       "    <tr>\n",
       "      <th>4</th>\n",
       "      <td>2014-01-01 05:00:00</td>\n",
       "      <td>41.044776</td>\n",
       "      <td>client_12</td>\n",
       "    </tr>\n",
       "  </tbody>\n",
       "</table>\n",
       "</div>"
      ],
      "text/plain": [
       "             timestamp      value       item\n",
       "0  2014-01-01 01:00:00  38.349917  client_12\n",
       "1  2014-01-01 02:00:00  33.582090  client_12\n",
       "2  2014-01-01 03:00:00  34.411277  client_12\n",
       "3  2014-01-01 04:00:00  39.800995  client_12\n",
       "4  2014-01-01 05:00:00  41.044776  client_12"
      ]
     },
     "execution_count": 9,
     "metadata": {},
     "output_type": "execute_result"
    }
   ],
   "source": [
    "actual_df = pd.read_csv(\"data/item-demand-time-train.csv\", names=['timestamp','value','item'])\n",
    "actual_df.head()"
   ]
  },
  {
   "cell_type": "markdown",
   "metadata": {},
   "source": [
    "Next we need to reduce the data to just the day we wish to plot, which is the First of November 2014."
   ]
  },
  {
   "cell_type": "code",
   "execution_count": 10,
   "metadata": {},
   "outputs": [],
   "source": [
    "actual_df = actual_df[(actual_df['timestamp'] >= '2014-10-31') & (actual_df['timestamp'] < '2014-11-01')]"
   ]
  },
  {
   "cell_type": "markdown",
   "metadata": {},
   "source": [
    "Lastly, only grab the items for client_12"
   ]
  },
  {
   "cell_type": "code",
   "execution_count": 11,
   "metadata": {},
   "outputs": [
    {
     "data": {
      "text/html": [
       "<div>\n",
       "<style scoped>\n",
       "    .dataframe tbody tr th:only-of-type {\n",
       "        vertical-align: middle;\n",
       "    }\n",
       "\n",
       "    .dataframe tbody tr th {\n",
       "        vertical-align: top;\n",
       "    }\n",
       "\n",
       "    .dataframe thead th {\n",
       "        text-align: right;\n",
       "    }\n",
       "</style>\n",
       "<table border=\"1\" class=\"dataframe\">\n",
       "  <thead>\n",
       "    <tr style=\"text-align: right;\">\n",
       "      <th></th>\n",
       "      <th>timestamp</th>\n",
       "      <th>value</th>\n",
       "      <th>item</th>\n",
       "    </tr>\n",
       "  </thead>\n",
       "  <tbody>\n",
       "    <tr>\n",
       "      <th>7271</th>\n",
       "      <td>2014-10-31 00:00:00</td>\n",
       "      <td>62.396352</td>\n",
       "      <td>client_12</td>\n",
       "    </tr>\n",
       "    <tr>\n",
       "      <th>7272</th>\n",
       "      <td>2014-10-31 01:00:00</td>\n",
       "      <td>59.286899</td>\n",
       "      <td>client_12</td>\n",
       "    </tr>\n",
       "    <tr>\n",
       "      <th>7273</th>\n",
       "      <td>2014-10-31 02:00:00</td>\n",
       "      <td>49.129353</td>\n",
       "      <td>client_12</td>\n",
       "    </tr>\n",
       "    <tr>\n",
       "      <th>7274</th>\n",
       "      <td>2014-10-31 03:00:00</td>\n",
       "      <td>55.555556</td>\n",
       "      <td>client_12</td>\n",
       "    </tr>\n",
       "    <tr>\n",
       "      <th>7275</th>\n",
       "      <td>2014-10-31 04:00:00</td>\n",
       "      <td>50.580431</td>\n",
       "      <td>client_12</td>\n",
       "    </tr>\n",
       "  </tbody>\n",
       "</table>\n",
       "</div>"
      ],
      "text/plain": [
       "                timestamp      value       item\n",
       "7271  2014-10-31 00:00:00  62.396352  client_12\n",
       "7272  2014-10-31 01:00:00  59.286899  client_12\n",
       "7273  2014-10-31 02:00:00  49.129353  client_12\n",
       "7274  2014-10-31 03:00:00  55.555556  client_12\n",
       "7275  2014-10-31 04:00:00  50.580431  client_12"
      ]
     },
     "execution_count": 11,
     "metadata": {},
     "output_type": "execute_result"
    }
   ],
   "source": [
    "actual_df = actual_df[(actual_df['item'] == 'client_12')]\n",
    "actual_df.head()"
   ]
  },
  {
   "cell_type": "code",
   "execution_count": 12,
   "metadata": {},
   "outputs": [
    {
     "data": {
      "text/plain": [
       "<matplotlib.axes._subplots.AxesSubplot at 0x7f56e9c0af10>"
      ]
     },
     "execution_count": 12,
     "metadata": {},
     "output_type": "execute_result"
    },
    {
     "data": {
      "image/png": "[encoded data removed]",
      "text/plain": [
       "<Figure size 432x288 with 1 Axes>"
      ]
     },
     "metadata": {
      "needs_background": "light"
     },
     "output_type": "display_data"
    }
   ],
   "source": [
    "actual_df.plot()"
   ]
  },
  {
   "cell_type": "markdown",
   "metadata": {},
   "source": [
    "## Plotting the Prediction:\n",
    "\n",
    "Next we need to convert the JSON response from the Predictor to a dataframe that we can plot."
   ]
  },
  {
   "cell_type": "code",
   "execution_count": 13,
   "metadata": {},
   "outputs": [
    {
     "data": {
      "text/html": [
       "<div>\n",
       "<style scoped>\n",
       "    .dataframe tbody tr th:only-of-type {\n",
       "        vertical-align: middle;\n",
       "    }\n",
       "\n",
       "    .dataframe tbody tr th {\n",
       "        vertical-align: top;\n",
       "    }\n",
       "\n",
       "    .dataframe thead th {\n",
       "        text-align: right;\n",
       "    }\n",
       "</style>\n",
       "<table border=\"1\" class=\"dataframe\">\n",
       "  <thead>\n",
       "    <tr style=\"text-align: right;\">\n",
       "      <th></th>\n",
       "      <th>Timestamp</th>\n",
       "      <th>Value</th>\n",
       "    </tr>\n",
       "  </thead>\n",
       "  <tbody>\n",
       "    <tr>\n",
       "      <th>0</th>\n",
       "      <td>2014-11-01T00:00:00</td>\n",
       "      <td>38.109570</td>\n",
       "    </tr>\n",
       "    <tr>\n",
       "      <th>1</th>\n",
       "      <td>2014-11-01T01:00:00</td>\n",
       "      <td>32.248226</td>\n",
       "    </tr>\n",
       "    <tr>\n",
       "      <th>2</th>\n",
       "      <td>2014-11-01T02:00:00</td>\n",
       "      <td>29.114925</td>\n",
       "    </tr>\n",
       "    <tr>\n",
       "      <th>3</th>\n",
       "      <td>2014-11-01T03:00:00</td>\n",
       "      <td>20.245989</td>\n",
       "    </tr>\n",
       "    <tr>\n",
       "      <th>4</th>\n",
       "      <td>2014-11-01T04:00:00</td>\n",
       "      <td>15.206353</td>\n",
       "    </tr>\n",
       "  </tbody>\n",
       "</table>\n",
       "</div>"
      ],
      "text/plain": [
       "             Timestamp      Value\n",
       "0  2014-11-01T00:00:00  38.109570\n",
       "1  2014-11-01T01:00:00  32.248226\n",
       "2  2014-11-01T02:00:00  29.114925\n",
       "3  2014-11-01T03:00:00  20.245989\n",
       "4  2014-11-01T04:00:00  15.206353"
      ]
     },
     "execution_count": 13,
     "metadata": {},
     "output_type": "execute_result"
    }
   ],
   "source": [
    "# Generate DF \n",
    "prediction_df_p10 = pd.DataFrame.from_dict(forecastResponse['Forecast']['Predictions']['p10'])\n",
    "prediction_df_p10.head()"
   ]
  },
  {
   "cell_type": "code",
   "execution_count": 14,
   "metadata": {},
   "outputs": [
    {
     "data": {
      "text/plain": [
       "<matplotlib.axes._subplots.AxesSubplot at 0x7f56e79e63d0>"
      ]
     },
     "execution_count": 14,
     "metadata": {},
     "output_type": "execute_result"
    },
    {
     "data": {
      "image/png": "[encoded data removed]",
      "text/plain": [
       "<Figure size 432x288 with 1 Axes>"
      ]
     },
     "metadata": {
      "needs_background": "light"
     },
     "output_type": "display_data"
    }
   ],
   "source": [
    "# Plot\n",
    "prediction_df_p10.plot()"
   ]
  },
  {
   "cell_type": "markdown",
   "metadata": {},
   "source": [
    "The above merely did the p10 values, now do the same for p50 and p90."
   ]
  },
  {
   "cell_type": "code",
   "execution_count": 15,
   "metadata": {},
   "outputs": [],
   "source": [
    "prediction_df_p50 = pd.DataFrame.from_dict(forecastResponse['Forecast']['Predictions']['p50'])\n",
    "prediction_df_p90 = pd.DataFrame.from_dict(forecastResponse['Forecast']['Predictions']['p90'])"
   ]
  },
  {
   "cell_type": "markdown",
   "metadata": {},
   "source": [
    "## Comparing the Prediction to Actual Results\n",
    "\n",
    "After obtaining the dataframes the next task is to plot them together to determine the best fit."
   ]
  },
  {
   "cell_type": "code",
   "execution_count": 16,
   "metadata": {},
   "outputs": [],
   "source": [
    "# We start by creating a dataframe to house our content, here source will be which dataframe it came from\n",
    "results_df = pd.DataFrame(columns=['timestamp', 'value', 'source'])"
   ]
  },
  {
   "cell_type": "markdown",
   "metadata": {},
   "source": [
    "Import the observed values into the dataframe:"
   ]
  },
  {
   "cell_type": "code",
   "execution_count": 17,
   "metadata": {},
   "outputs": [],
   "source": [
    "for index, row in actual_df.iterrows():\n",
    "    clean_timestamp = dateutil.parser.parse(row['timestamp'])\n",
    "    results_df = results_df.append({'timestamp' : clean_timestamp , 'value' : row['value'], 'source': 'actual'} , ignore_index=True)"
   ]
  },
  {
   "cell_type": "code",
   "execution_count": 18,
   "metadata": {},
   "outputs": [
    {
     "data": {
      "text/html": [
       "<div>\n",
       "<style scoped>\n",
       "    .dataframe tbody tr th:only-of-type {\n",
       "        vertical-align: middle;\n",
       "    }\n",
       "\n",
       "    .dataframe tbody tr th {\n",
       "        vertical-align: top;\n",
       "    }\n",
       "\n",
       "    .dataframe thead th {\n",
       "        text-align: right;\n",
       "    }\n",
       "</style>\n",
       "<table border=\"1\" class=\"dataframe\">\n",
       "  <thead>\n",
       "    <tr style=\"text-align: right;\">\n",
       "      <th></th>\n",
       "      <th>timestamp</th>\n",
       "      <th>value</th>\n",
       "      <th>source</th>\n",
       "    </tr>\n",
       "  </thead>\n",
       "  <tbody>\n",
       "    <tr>\n",
       "      <th>0</th>\n",
       "      <td>2014-10-31 00:00:00</td>\n",
       "      <td>62.396352</td>\n",
       "      <td>actual</td>\n",
       "    </tr>\n",
       "    <tr>\n",
       "      <th>1</th>\n",
       "      <td>2014-10-31 01:00:00</td>\n",
       "      <td>59.286899</td>\n",
       "      <td>actual</td>\n",
       "    </tr>\n",
       "    <tr>\n",
       "      <th>2</th>\n",
       "      <td>2014-10-31 02:00:00</td>\n",
       "      <td>49.129353</td>\n",
       "      <td>actual</td>\n",
       "    </tr>\n",
       "    <tr>\n",
       "      <th>3</th>\n",
       "      <td>2014-10-31 03:00:00</td>\n",
       "      <td>55.555556</td>\n",
       "      <td>actual</td>\n",
       "    </tr>\n",
       "    <tr>\n",
       "      <th>4</th>\n",
       "      <td>2014-10-31 04:00:00</td>\n",
       "      <td>50.580431</td>\n",
       "      <td>actual</td>\n",
       "    </tr>\n",
       "  </tbody>\n",
       "</table>\n",
       "</div>"
      ],
      "text/plain": [
       "            timestamp      value  source\n",
       "0 2014-10-31 00:00:00  62.396352  actual\n",
       "1 2014-10-31 01:00:00  59.286899  actual\n",
       "2 2014-10-31 02:00:00  49.129353  actual\n",
       "3 2014-10-31 03:00:00  55.555556  actual\n",
       "4 2014-10-31 04:00:00  50.580431  actual"
      ]
     },
     "execution_count": 18,
     "metadata": {},
     "output_type": "execute_result"
    }
   ],
   "source": [
    "# To show the new dataframe\n",
    "results_df.head()"
   ]
  },
  {
   "cell_type": "code",
   "execution_count": 19,
   "metadata": {},
   "outputs": [],
   "source": [
    "# Now add the P10, P50, and P90 Values\n",
    "for index, row in prediction_df_p10.iterrows():\n",
    "    clean_timestamp = dateutil.parser.parse(row['Timestamp'])\n",
    "    results_df = results_df.append({'timestamp' : clean_timestamp , 'value' : row['Value'], 'source': 'p10'} , ignore_index=True)\n",
    "for index, row in prediction_df_p50.iterrows():\n",
    "    clean_timestamp = dateutil.parser.parse(row['Timestamp'])\n",
    "    results_df = results_df.append({'timestamp' : clean_timestamp , 'value' : row['Value'], 'source': 'p50'} , ignore_index=True)\n",
    "for index, row in prediction_df_p90.iterrows():\n",
    "    clean_timestamp = dateutil.parser.parse(row['Timestamp'])\n",
    "    results_df = results_df.append({'timestamp' : clean_timestamp , 'value' : row['Value'], 'source': 'p90'} , ignore_index=True)"
   ]
  },
  {
   "cell_type": "code",
   "execution_count": 20,
   "metadata": {},
   "outputs": [
    {
     "data": {
      "text/html": [
       "<div>\n",
       "<style scoped>\n",
       "    .dataframe tbody tr th:only-of-type {\n",
       "        vertical-align: middle;\n",
       "    }\n",
       "\n",
       "    .dataframe tbody tr th {\n",
       "        vertical-align: top;\n",
       "    }\n",
       "\n",
       "    .dataframe thead th {\n",
       "        text-align: right;\n",
       "    }\n",
       "</style>\n",
       "<table border=\"1\" class=\"dataframe\">\n",
       "  <thead>\n",
       "    <tr style=\"text-align: right;\">\n",
       "      <th></th>\n",
       "      <th>timestamp</th>\n",
       "      <th>value</th>\n",
       "      <th>source</th>\n",
       "    </tr>\n",
       "  </thead>\n",
       "  <tbody>\n",
       "    <tr>\n",
       "      <th>0</th>\n",
       "      <td>2014-10-31 00:00:00</td>\n",
       "      <td>62.396352</td>\n",
       "      <td>actual</td>\n",
       "    </tr>\n",
       "    <tr>\n",
       "      <th>1</th>\n",
       "      <td>2014-10-31 01:00:00</td>\n",
       "      <td>59.286899</td>\n",
       "      <td>actual</td>\n",
       "    </tr>\n",
       "    <tr>\n",
       "      <th>2</th>\n",
       "      <td>2014-10-31 02:00:00</td>\n",
       "      <td>49.129353</td>\n",
       "      <td>actual</td>\n",
       "    </tr>\n",
       "    <tr>\n",
       "      <th>3</th>\n",
       "      <td>2014-10-31 03:00:00</td>\n",
       "      <td>55.555556</td>\n",
       "      <td>actual</td>\n",
       "    </tr>\n",
       "    <tr>\n",
       "      <th>4</th>\n",
       "      <td>2014-10-31 04:00:00</td>\n",
       "      <td>50.580431</td>\n",
       "      <td>actual</td>\n",
       "    </tr>\n",
       "    <tr>\n",
       "      <th>...</th>\n",
       "      <td>...</td>\n",
       "      <td>...</td>\n",
       "      <td>...</td>\n",
       "    </tr>\n",
       "    <tr>\n",
       "      <th>91</th>\n",
       "      <td>2014-11-01 19:00:00</td>\n",
       "      <td>49.230274</td>\n",
       "      <td>p90</td>\n",
       "    </tr>\n",
       "    <tr>\n",
       "      <th>92</th>\n",
       "      <td>2014-11-01 20:00:00</td>\n",
       "      <td>48.036377</td>\n",
       "      <td>p90</td>\n",
       "    </tr>\n",
       "    <tr>\n",
       "      <th>93</th>\n",
       "      <td>2014-11-01 21:00:00</td>\n",
       "      <td>32.096226</td>\n",
       "      <td>p90</td>\n",
       "    </tr>\n",
       "    <tr>\n",
       "      <th>94</th>\n",
       "      <td>2014-11-01 22:00:00</td>\n",
       "      <td>25.110338</td>\n",
       "      <td>p90</td>\n",
       "    </tr>\n",
       "    <tr>\n",
       "      <th>95</th>\n",
       "      <td>2014-11-01 23:00:00</td>\n",
       "      <td>22.290482</td>\n",
       "      <td>p90</td>\n",
       "    </tr>\n",
       "  </tbody>\n",
       "</table>\n",
       "<p>96 rows × 3 columns</p>\n",
       "</div>"
      ],
      "text/plain": [
       "             timestamp      value  source\n",
       "0  2014-10-31 00:00:00  62.396352  actual\n",
       "1  2014-10-31 01:00:00  59.286899  actual\n",
       "2  2014-10-31 02:00:00  49.129353  actual\n",
       "3  2014-10-31 03:00:00  55.555556  actual\n",
       "4  2014-10-31 04:00:00  50.580431  actual\n",
       "..                 ...        ...     ...\n",
       "91 2014-11-01 19:00:00  49.230274     p90\n",
       "92 2014-11-01 20:00:00  48.036377     p90\n",
       "93 2014-11-01 21:00:00  32.096226     p90\n",
       "94 2014-11-01 22:00:00  25.110338     p90\n",
       "95 2014-11-01 23:00:00  22.290482     p90\n",
       "\n",
       "[96 rows x 3 columns]"
      ]
     },
     "execution_count": 20,
     "metadata": {},
     "output_type": "execute_result"
    }
   ],
   "source": [
    "results_df"
   ]
  },
  {
   "cell_type": "code",
   "execution_count": 21,
   "metadata": {},
   "outputs": [
    {
     "data": {
      "text/html": [
       "<div>\n",
       "<style scoped>\n",
       "    .dataframe tbody tr th:only-of-type {\n",
       "        vertical-align: middle;\n",
       "    }\n",
       "\n",
       "    .dataframe tbody tr th {\n",
       "        vertical-align: top;\n",
       "    }\n",
       "\n",
       "    .dataframe thead th {\n",
       "        text-align: right;\n",
       "    }\n",
       "</style>\n",
       "<table border=\"1\" class=\"dataframe\">\n",
       "  <thead>\n",
       "    <tr style=\"text-align: right;\">\n",
       "      <th>source</th>\n",
       "      <th>actual</th>\n",
       "      <th>p10</th>\n",
       "      <th>p50</th>\n",
       "      <th>p90</th>\n",
       "    </tr>\n",
       "    <tr>\n",
       "      <th>timestamp</th>\n",
       "      <th></th>\n",
       "      <th></th>\n",
       "      <th></th>\n",
       "      <th></th>\n",
       "    </tr>\n",
       "  </thead>\n",
       "  <tbody>\n",
       "    <tr>\n",
       "      <th>2014-10-31 00:00:00</th>\n",
       "      <td>62.396352</td>\n",
       "      <td>NaN</td>\n",
       "      <td>NaN</td>\n",
       "      <td>NaN</td>\n",
       "    </tr>\n",
       "    <tr>\n",
       "      <th>2014-10-31 01:00:00</th>\n",
       "      <td>59.286899</td>\n",
       "      <td>NaN</td>\n",
       "      <td>NaN</td>\n",
       "      <td>NaN</td>\n",
       "    </tr>\n",
       "    <tr>\n",
       "      <th>2014-10-31 02:00:00</th>\n",
       "      <td>49.129353</td>\n",
       "      <td>NaN</td>\n",
       "      <td>NaN</td>\n",
       "      <td>NaN</td>\n",
       "    </tr>\n",
       "    <tr>\n",
       "      <th>2014-10-31 03:00:00</th>\n",
       "      <td>55.555556</td>\n",
       "      <td>NaN</td>\n",
       "      <td>NaN</td>\n",
       "      <td>NaN</td>\n",
       "    </tr>\n",
       "    <tr>\n",
       "      <th>2014-10-31 04:00:00</th>\n",
       "      <td>50.580431</td>\n",
       "      <td>NaN</td>\n",
       "      <td>NaN</td>\n",
       "      <td>NaN</td>\n",
       "    </tr>\n",
       "    <tr>\n",
       "      <th>2014-10-31 05:00:00</th>\n",
       "      <td>55.140962</td>\n",
       "      <td>NaN</td>\n",
       "      <td>NaN</td>\n",
       "      <td>NaN</td>\n",
       "    </tr>\n",
       "    <tr>\n",
       "      <th>2014-10-31 06:00:00</th>\n",
       "      <td>47.470978</td>\n",
       "      <td>NaN</td>\n",
       "      <td>NaN</td>\n",
       "      <td>NaN</td>\n",
       "    </tr>\n",
       "    <tr>\n",
       "      <th>2014-10-31 07:00:00</th>\n",
       "      <td>49.543947</td>\n",
       "      <td>NaN</td>\n",
       "      <td>NaN</td>\n",
       "      <td>NaN</td>\n",
       "    </tr>\n",
       "    <tr>\n",
       "      <th>2014-10-31 08:00:00</th>\n",
       "      <td>72.346600</td>\n",
       "      <td>NaN</td>\n",
       "      <td>NaN</td>\n",
       "      <td>NaN</td>\n",
       "    </tr>\n",
       "    <tr>\n",
       "      <th>2014-10-31 09:00:00</th>\n",
       "      <td>146.558872</td>\n",
       "      <td>NaN</td>\n",
       "      <td>NaN</td>\n",
       "      <td>NaN</td>\n",
       "    </tr>\n",
       "    <tr>\n",
       "      <th>2014-10-31 10:00:00</th>\n",
       "      <td>164.386401</td>\n",
       "      <td>NaN</td>\n",
       "      <td>NaN</td>\n",
       "      <td>NaN</td>\n",
       "    </tr>\n",
       "    <tr>\n",
       "      <th>2014-10-31 11:00:00</th>\n",
       "      <td>164.179104</td>\n",
       "      <td>NaN</td>\n",
       "      <td>NaN</td>\n",
       "      <td>NaN</td>\n",
       "    </tr>\n",
       "    <tr>\n",
       "      <th>2014-10-31 12:00:00</th>\n",
       "      <td>172.056385</td>\n",
       "      <td>NaN</td>\n",
       "      <td>NaN</td>\n",
       "      <td>NaN</td>\n",
       "    </tr>\n",
       "    <tr>\n",
       "      <th>2014-10-31 13:00:00</th>\n",
       "      <td>147.595357</td>\n",
       "      <td>NaN</td>\n",
       "      <td>NaN</td>\n",
       "      <td>NaN</td>\n",
       "    </tr>\n",
       "    <tr>\n",
       "      <th>2014-10-31 14:00:00</th>\n",
       "      <td>123.134328</td>\n",
       "      <td>NaN</td>\n",
       "      <td>NaN</td>\n",
       "      <td>NaN</td>\n",
       "    </tr>\n",
       "    <tr>\n",
       "      <th>2014-10-31 15:00:00</th>\n",
       "      <td>167.081260</td>\n",
       "      <td>NaN</td>\n",
       "      <td>NaN</td>\n",
       "      <td>NaN</td>\n",
       "    </tr>\n",
       "    <tr>\n",
       "      <th>2014-10-31 16:00:00</th>\n",
       "      <td>148.631841</td>\n",
       "      <td>NaN</td>\n",
       "      <td>NaN</td>\n",
       "      <td>NaN</td>\n",
       "    </tr>\n",
       "    <tr>\n",
       "      <th>2014-10-31 17:00:00</th>\n",
       "      <td>147.180763</td>\n",
       "      <td>NaN</td>\n",
       "      <td>NaN</td>\n",
       "      <td>NaN</td>\n",
       "    </tr>\n",
       "    <tr>\n",
       "      <th>2014-10-31 18:00:00</th>\n",
       "      <td>169.983416</td>\n",
       "      <td>NaN</td>\n",
       "      <td>NaN</td>\n",
       "      <td>NaN</td>\n",
       "    </tr>\n",
       "    <tr>\n",
       "      <th>2014-10-31 19:00:00</th>\n",
       "      <td>151.119403</td>\n",
       "      <td>NaN</td>\n",
       "      <td>NaN</td>\n",
       "      <td>NaN</td>\n",
       "    </tr>\n",
       "    <tr>\n",
       "      <th>2014-10-31 20:00:00</th>\n",
       "      <td>127.280265</td>\n",
       "      <td>NaN</td>\n",
       "      <td>NaN</td>\n",
       "      <td>NaN</td>\n",
       "    </tr>\n",
       "    <tr>\n",
       "      <th>2014-10-31 21:00:00</th>\n",
       "      <td>72.139303</td>\n",
       "      <td>NaN</td>\n",
       "      <td>NaN</td>\n",
       "      <td>NaN</td>\n",
       "    </tr>\n",
       "    <tr>\n",
       "      <th>2014-10-31 22:00:00</th>\n",
       "      <td>44.776119</td>\n",
       "      <td>NaN</td>\n",
       "      <td>NaN</td>\n",
       "      <td>NaN</td>\n",
       "    </tr>\n",
       "    <tr>\n",
       "      <th>2014-10-31 23:00:00</th>\n",
       "      <td>48.507463</td>\n",
       "      <td>NaN</td>\n",
       "      <td>NaN</td>\n",
       "      <td>NaN</td>\n",
       "    </tr>\n",
       "    <tr>\n",
       "      <th>2014-11-01 00:00:00</th>\n",
       "      <td>NaN</td>\n",
       "      <td>38.109570</td>\n",
       "      <td>44.133854</td>\n",
       "      <td>49.089493</td>\n",
       "    </tr>\n",
       "    <tr>\n",
       "      <th>2014-11-01 01:00:00</th>\n",
       "      <td>NaN</td>\n",
       "      <td>32.248226</td>\n",
       "      <td>37.378513</td>\n",
       "      <td>42.317074</td>\n",
       "    </tr>\n",
       "    <tr>\n",
       "      <th>2014-11-01 02:00:00</th>\n",
       "      <td>NaN</td>\n",
       "      <td>29.114925</td>\n",
       "      <td>32.856689</td>\n",
       "      <td>38.097000</td>\n",
       "    </tr>\n",
       "    <tr>\n",
       "      <th>2014-11-01 03:00:00</th>\n",
       "      <td>NaN</td>\n",
       "      <td>20.245989</td>\n",
       "      <td>24.009670</td>\n",
       "      <td>29.173306</td>\n",
       "    </tr>\n",
       "    <tr>\n",
       "      <th>2014-11-01 04:00:00</th>\n",
       "      <td>NaN</td>\n",
       "      <td>15.206353</td>\n",
       "      <td>18.943827</td>\n",
       "      <td>23.354261</td>\n",
       "    </tr>\n",
       "    <tr>\n",
       "      <th>2014-11-01 05:00:00</th>\n",
       "      <td>NaN</td>\n",
       "      <td>14.061108</td>\n",
       "      <td>18.960411</td>\n",
       "      <td>23.935528</td>\n",
       "    </tr>\n",
       "    <tr>\n",
       "      <th>2014-11-01 06:00:00</th>\n",
       "      <td>NaN</td>\n",
       "      <td>12.142797</td>\n",
       "      <td>16.180906</td>\n",
       "      <td>20.270672</td>\n",
       "    </tr>\n",
       "    <tr>\n",
       "      <th>2014-11-01 07:00:00</th>\n",
       "      <td>NaN</td>\n",
       "      <td>12.177221</td>\n",
       "      <td>15.716458</td>\n",
       "      <td>21.076797</td>\n",
       "    </tr>\n",
       "    <tr>\n",
       "      <th>2014-11-01 08:00:00</th>\n",
       "      <td>NaN</td>\n",
       "      <td>18.176559</td>\n",
       "      <td>24.639240</td>\n",
       "      <td>33.985760</td>\n",
       "    </tr>\n",
       "    <tr>\n",
       "      <th>2014-11-01 09:00:00</th>\n",
       "      <td>NaN</td>\n",
       "      <td>41.746021</td>\n",
       "      <td>55.775841</td>\n",
       "      <td>66.425621</td>\n",
       "    </tr>\n",
       "    <tr>\n",
       "      <th>2014-11-01 10:00:00</th>\n",
       "      <td>NaN</td>\n",
       "      <td>48.946442</td>\n",
       "      <td>59.611431</td>\n",
       "      <td>75.802299</td>\n",
       "    </tr>\n",
       "    <tr>\n",
       "      <th>2014-11-01 11:00:00</th>\n",
       "      <td>NaN</td>\n",
       "      <td>42.148830</td>\n",
       "      <td>53.371365</td>\n",
       "      <td>67.822289</td>\n",
       "    </tr>\n",
       "    <tr>\n",
       "      <th>2014-11-01 12:00:00</th>\n",
       "      <td>NaN</td>\n",
       "      <td>40.025951</td>\n",
       "      <td>51.785706</td>\n",
       "      <td>70.613770</td>\n",
       "    </tr>\n",
       "    <tr>\n",
       "      <th>2014-11-01 13:00:00</th>\n",
       "      <td>NaN</td>\n",
       "      <td>28.999546</td>\n",
       "      <td>43.126152</td>\n",
       "      <td>55.013794</td>\n",
       "    </tr>\n",
       "    <tr>\n",
       "      <th>2014-11-01 14:00:00</th>\n",
       "      <td>NaN</td>\n",
       "      <td>28.582499</td>\n",
       "      <td>38.672138</td>\n",
       "      <td>51.797997</td>\n",
       "    </tr>\n",
       "    <tr>\n",
       "      <th>2014-11-01 15:00:00</th>\n",
       "      <td>NaN</td>\n",
       "      <td>39.518887</td>\n",
       "      <td>49.955093</td>\n",
       "      <td>64.291893</td>\n",
       "    </tr>\n",
       "    <tr>\n",
       "      <th>2014-11-01 16:00:00</th>\n",
       "      <td>NaN</td>\n",
       "      <td>30.361715</td>\n",
       "      <td>46.853657</td>\n",
       "      <td>57.889984</td>\n",
       "    </tr>\n",
       "    <tr>\n",
       "      <th>2014-11-01 17:00:00</th>\n",
       "      <td>NaN</td>\n",
       "      <td>37.042328</td>\n",
       "      <td>49.433796</td>\n",
       "      <td>60.188976</td>\n",
       "    </tr>\n",
       "    <tr>\n",
       "      <th>2014-11-01 18:00:00</th>\n",
       "      <td>NaN</td>\n",
       "      <td>34.163494</td>\n",
       "      <td>44.040051</td>\n",
       "      <td>58.213291</td>\n",
       "    </tr>\n",
       "    <tr>\n",
       "      <th>2014-11-01 19:00:00</th>\n",
       "      <td>NaN</td>\n",
       "      <td>25.918154</td>\n",
       "      <td>36.232307</td>\n",
       "      <td>49.230274</td>\n",
       "    </tr>\n",
       "    <tr>\n",
       "      <th>2014-11-01 20:00:00</th>\n",
       "      <td>NaN</td>\n",
       "      <td>23.880272</td>\n",
       "      <td>33.176331</td>\n",
       "      <td>48.036377</td>\n",
       "    </tr>\n",
       "    <tr>\n",
       "      <th>2014-11-01 21:00:00</th>\n",
       "      <td>NaN</td>\n",
       "      <td>13.984728</td>\n",
       "      <td>21.088898</td>\n",
       "      <td>32.096226</td>\n",
       "    </tr>\n",
       "    <tr>\n",
       "      <th>2014-11-01 22:00:00</th>\n",
       "      <td>NaN</td>\n",
       "      <td>9.136497</td>\n",
       "      <td>17.148823</td>\n",
       "      <td>25.110338</td>\n",
       "    </tr>\n",
       "    <tr>\n",
       "      <th>2014-11-01 23:00:00</th>\n",
       "      <td>NaN</td>\n",
       "      <td>4.216550</td>\n",
       "      <td>12.425035</td>\n",
       "      <td>22.290482</td>\n",
       "    </tr>\n",
       "  </tbody>\n",
       "</table>\n",
       "</div>"
      ],
      "text/plain": [
       "source                   actual        p10        p50        p90\n",
       "timestamp                                                       \n",
       "2014-10-31 00:00:00   62.396352        NaN        NaN        NaN\n",
       "2014-10-31 01:00:00   59.286899        NaN        NaN        NaN\n",
       "2014-10-31 02:00:00   49.129353        NaN        NaN        NaN\n",
       "2014-10-31 03:00:00   55.555556        NaN        NaN        NaN\n",
       "2014-10-31 04:00:00   50.580431        NaN        NaN        NaN\n",
       "2014-10-31 05:00:00   55.140962        NaN        NaN        NaN\n",
       "2014-10-31 06:00:00   47.470978        NaN        NaN        NaN\n",
       "2014-10-31 07:00:00   49.543947        NaN        NaN        NaN\n",
       "2014-10-31 08:00:00   72.346600        NaN        NaN        NaN\n",
       "2014-10-31 09:00:00  146.558872        NaN        NaN        NaN\n",
       "2014-10-31 10:00:00  164.386401        NaN        NaN        NaN\n",
       "2014-10-31 11:00:00  164.179104        NaN        NaN        NaN\n",
       "2014-10-31 12:00:00  172.056385        NaN        NaN        NaN\n",
       "2014-10-31 13:00:00  147.595357        NaN        NaN        NaN\n",
       "2014-10-31 14:00:00  123.134328        NaN        NaN        NaN\n",
       "2014-10-31 15:00:00  167.081260        NaN        NaN        NaN\n",
       "2014-10-31 16:00:00  148.631841        NaN        NaN        NaN\n",
       "2014-10-31 17:00:00  147.180763        NaN        NaN        NaN\n",
       "2014-10-31 18:00:00  169.983416        NaN        NaN        NaN\n",
       "2014-10-31 19:00:00  151.119403        NaN        NaN        NaN\n",
       "2014-10-31 20:00:00  127.280265        NaN        NaN        NaN\n",
       "2014-10-31 21:00:00   72.139303        NaN        NaN        NaN\n",
       "2014-10-31 22:00:00   44.776119        NaN        NaN        NaN\n",
       "2014-10-31 23:00:00   48.507463        NaN        NaN        NaN\n",
       "2014-11-01 00:00:00         NaN  38.109570  44.133854  49.089493\n",
       "2014-11-01 01:00:00         NaN  32.248226  37.378513  42.317074\n",
       "2014-11-01 02:00:00         NaN  29.114925  32.856689  38.097000\n",
       "2014-11-01 03:00:00         NaN  20.245989  24.009670  29.173306\n",
       "2014-11-01 04:00:00         NaN  15.206353  18.943827  23.354261\n",
       "2014-11-01 05:00:00         NaN  14.061108  18.960411  23.935528\n",
       "2014-11-01 06:00:00         NaN  12.142797  16.180906  20.270672\n",
       "2014-11-01 07:00:00         NaN  12.177221  15.716458  21.076797\n",
       "2014-11-01 08:00:00         NaN  18.176559  24.639240  33.985760\n",
       "2014-11-01 09:00:00         NaN  41.746021  55.775841  66.425621\n",
       "2014-11-01 10:00:00         NaN  48.946442  59.611431  75.802299\n",
       "2014-11-01 11:00:00         NaN  42.148830  53.371365  67.822289\n",
       "2014-11-01 12:00:00         NaN  40.025951  51.785706  70.613770\n",
       "2014-11-01 13:00:00         NaN  28.999546  43.126152  55.013794\n",
       "2014-11-01 14:00:00         NaN  28.582499  38.672138  51.797997\n",
       "2014-11-01 15:00:00         NaN  39.518887  49.955093  64.291893\n",
       "2014-11-01 16:00:00         NaN  30.361715  46.853657  57.889984\n",
       "2014-11-01 17:00:00         NaN  37.042328  49.433796  60.188976\n",
       "2014-11-01 18:00:00         NaN  34.163494  44.040051  58.213291\n",
       "2014-11-01 19:00:00         NaN  25.918154  36.232307  49.230274\n",
       "2014-11-01 20:00:00         NaN  23.880272  33.176331  48.036377\n",
       "2014-11-01 21:00:00         NaN  13.984728  21.088898  32.096226\n",
       "2014-11-01 22:00:00         NaN   9.136497  17.148823  25.110338\n",
       "2014-11-01 23:00:00         NaN   4.216550  12.425035  22.290482"
      ]
     },
     "execution_count": 21,
     "metadata": {},
     "output_type": "execute_result"
    }
   ],
   "source": [
    "pivot_df = results_df.pivot(columns='source', values='value', index=\"timestamp\")\n",
    "\n",
    "pivot_df"
   ]
  },
  {
   "cell_type": "code",
   "execution_count": 22,
   "metadata": {},
   "outputs": [
    {
     "data": {
      "text/plain": [
       "<matplotlib.axes._subplots.AxesSubplot at 0x7f56e7966ed0>"
      ]
     },
     "execution_count": 22,
     "metadata": {},
     "output_type": "execute_result"
    },
    {
     "data": {
      "image/png": "[encoded data removed]",
      "text/plain": [
       "<Figure size 432x288 with 1 Axes>"
      ]
     },
     "metadata": {
      "needs_background": "light"
     },
     "output_type": "display_data"
    }
   ],
   "source": [
    "pivot_df.plot()"
   ]
  },
  {
   "cell_type": "markdown",
   "metadata": {},
   "source": [
    "Once you are done exploring this Forecast you can cleanup all the work that was done by executing the cells inside `Cleanup.ipynb` within this folder."
   ]
  }
 ],
 "metadata": {
  "kernelspec": {
   "display_name": "Python 3",
   "language": "python",
   "name": "python3"
  },
  "language_info": {
   "codemirror_mode": {
    "name": "ipython",
    "version": 3
   },
   "file_extension": ".py",
   "mimetype": "text/x-python",
   "name": "python",
   "nbconvert_exporter": "python",
   "pygments_lexer": "ipython3",
   "version": "3.7.6"
  }
 },
 "nbformat": 4,
 "nbformat_minor": 4
}
